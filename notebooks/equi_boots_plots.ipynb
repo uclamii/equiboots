{
 "cells": [
  {
   "cell_type": "markdown",
   "metadata": {},
   "source": [
    "# Equi Boots Graphical Notebook"
   ]
  },
  {
   "cell_type": "markdown",
   "metadata": {},
   "source": [
    "## Library Imports"
   ]
  },
  {
   "cell_type": "code",
   "execution_count": null,
   "metadata": {},
   "outputs": [],
   "source": [
    "import pandas as pd\n",
    "import numpy as np\n",
    "import os\n",
    "import sys\n",
    "\n",
    "# Add path to import EquiBoots\n",
    "script_path = os.path.abspath(\"../py_scripts\")\n",
    "print(\"Appending path:\", script_path)\n",
    "sys.path.append(script_path)"
   ]
  },
  {
   "cell_type": "code",
   "execution_count": null,
   "metadata": {},
   "outputs": [],
   "source": [
    "import equiboots as eqb"
   ]
  },
  {
   "cell_type": "markdown",
   "metadata": {},
   "source": [
    "## Prepping equiboots"
   ]
  },
  {
   "cell_type": "markdown",
   "metadata": {},
   "source": [
    "### Classification Mock-Up"
   ]
  },
  {
   "cell_type": "code",
   "execution_count": null,
   "metadata": {},
   "outputs": [],
   "source": [
    "# Generate synthetic test data\n",
    "y_prob = np.random.rand(1000)\n",
    "y_pred = y_prob > 0.5\n",
    "y_true = np.random.randint(0, 2, 1000)\n",
    "\n",
    "race = (\n",
    "    np.random.RandomState(3)\n",
    "    .choice([\"white\", \"black\", \"asian\", \"hispanic\"], 1000)\n",
    "    .reshape(-1, 1)\n",
    ")\n",
    "sex = np.random.choice([\"M\", \"F\"], 1000).reshape(-1, 1)\n",
    "\n",
    "fairness_df = pd.DataFrame(\n",
    "    data=np.concatenate((race, sex), axis=1), columns=[\"race\", \"sex\"]\n",
    ")\n",
    "\n",
    "# Initialize and process groups\n",
    "eq = eqb.EquiBoots(\n",
    "    y_true=y_true,\n",
    "    y_prob=y_prob,\n",
    "    y_pred=y_pred,\n",
    "    fairness_df=fairness_df,\n",
    "    fairness_vars=[\"race\", \"sex\"],\n",
    ")\n",
    "eq.grouper(groupings_vars=[\"race\", \"sex\"])\n",
    "sliced_data = eq.slicer(\"race\")"
   ]
  },
  {
   "cell_type": "markdown",
   "metadata": {},
   "source": [
    "## ROC AUC by Group (ex. Race)"
   ]
  },
  {
   "cell_type": "markdown",
   "metadata": {},
   "source": [
    "### Overlay"
   ]
  },
  {
   "cell_type": "code",
   "execution_count": null,
   "metadata": {},
   "outputs": [],
   "source": [
    "eqb.eq_plot_group_curves(\n",
    "    sliced_data,\n",
    "    curve_type=\"roc\",\n",
    "    title=\"ROC AUC by Race Group\",\n",
    "    n_bins=10,\n",
    ")"
   ]
  },
  {
   "cell_type": "markdown",
   "metadata": {},
   "source": [
    "### Subplots"
   ]
  },
  {
   "cell_type": "code",
   "execution_count": null,
   "metadata": {},
   "outputs": [],
   "source": [
    "eqb.eq_plot_group_curves(\n",
    "    sliced_data,\n",
    "    curve_type=\"roc\",\n",
    "    title=\"ROC AUC by Race Group\",\n",
    "    # figsize=(5, 5),\n",
    "    decimal_places=2,\n",
    "    subplots=True,\n",
    ")"
   ]
  },
  {
   "cell_type": "markdown",
   "metadata": {},
   "source": [
    "### Example of Single Race Group"
   ]
  },
  {
   "cell_type": "code",
   "execution_count": null,
   "metadata": {},
   "outputs": [],
   "source": [
    "eqb.eq_plot_group_curves(\n",
    "    sliced_data,\n",
    "    curve_type=\"roc\",\n",
    "    title=\"ROC AUC by Race Group\",\n",
    "    figsize=(5, 5),\n",
    "    group=\"black\",\n",
    "    color_by_group=False,\n",
    ")"
   ]
  },
  {
   "cell_type": "markdown",
   "metadata": {},
   "source": [
    "## Precision-Recall Curves"
   ]
  },
  {
   "cell_type": "markdown",
   "metadata": {},
   "source": [
    "### Overlay"
   ]
  },
  {
   "cell_type": "code",
   "execution_count": null,
   "metadata": {},
   "outputs": [],
   "source": [
    "eqb.eq_plot_group_curves(\n",
    "    sliced_data,\n",
    "    curve_type=\"pr\",\n",
    "    title=\"Precision-Recall by Race Group\",\n",
    "    n_bins=10,\n",
    ")"
   ]
  },
  {
   "cell_type": "markdown",
   "metadata": {},
   "source": [
    "### Subplots"
   ]
  },
  {
   "cell_type": "code",
   "execution_count": null,
   "metadata": {},
   "outputs": [],
   "source": [
    "eqb.eq_plot_group_curves(\n",
    "    sliced_data,\n",
    "    curve_type=\"pr\",\n",
    "    title=\"Precision-Recall by Race Group\",\n",
    "    figsize=(5, 5),\n",
    "    decimal_places=2,\n",
    "    subplots=True,\n",
    ")"
   ]
  },
  {
   "cell_type": "markdown",
   "metadata": {},
   "source": [
    "### Example of Single Race Group"
   ]
  },
  {
   "cell_type": "code",
   "execution_count": null,
   "metadata": {},
   "outputs": [],
   "source": [
    "eqb.eq_plot_group_curves(\n",
    "    sliced_data,\n",
    "    curve_type=\"pr\",\n",
    "    title=\"Precision-Recall by Race Group\",\n",
    "    figsize=(5, 5),\n",
    "    group=\"black\",\n",
    "    color_by_group=False,\n",
    ")"
   ]
  },
  {
   "cell_type": "markdown",
   "metadata": {},
   "source": [
    "## Calibration Plot"
   ]
  },
  {
   "cell_type": "markdown",
   "metadata": {},
   "source": [
    "### Overlay"
   ]
  },
  {
   "cell_type": "code",
   "execution_count": null,
   "metadata": {},
   "outputs": [],
   "source": [
    "eqb.eq_plot_group_curves(\n",
    "    sliced_data,\n",
    "    curve_type=\"calibration\",\n",
    "    title=\"Calibration by Race Group\",\n",
    "    n_bins=10,\n",
    "    exclude_groups=\"white\",\n",
    ")"
   ]
  },
  {
   "cell_type": "markdown",
   "metadata": {},
   "source": [
    "### Subplots"
   ]
  },
  {
   "cell_type": "code",
   "execution_count": null,
   "metadata": {},
   "outputs": [],
   "source": [
    "eqb.eq_plot_group_curves(\n",
    "    sliced_data,\n",
    "    curve_type=\"calibration\",\n",
    "    title=\"Calibration by Race Group\",\n",
    "    figsize=(5, 5),\n",
    "    decimal_places=2,\n",
    "    subplots=True,\n",
    ")"
   ]
  },
  {
   "cell_type": "markdown",
   "metadata": {},
   "source": [
    "### Example of Single Race Group"
   ]
  },
  {
   "cell_type": "code",
   "execution_count": null,
   "metadata": {},
   "outputs": [],
   "source": [
    "eqb.eq_plot_group_curves(\n",
    "    sliced_data,\n",
    "    curve_type=\"calibration\",\n",
    "    title=\"Calibration by Race Group\",\n",
    "    figsize=(5, 5),\n",
    "    group=\"black\",\n",
    "    color_by_group=False,\n",
    ")"
   ]
  },
  {
   "cell_type": "markdown",
   "metadata": {},
   "source": [
    "## Bootstrap Graphs"
   ]
  },
  {
   "cell_type": "code",
   "execution_count": null,
   "metadata": {},
   "outputs": [],
   "source": [
    "eq2 = eqb.EquiBoots(\n",
    "    y_true,\n",
    "    y_prob,\n",
    "    y_pred,\n",
    "    fairness_df,\n",
    "    fairness_vars=[\"race\", \"sex\"],\n",
    "    reference_groups=[\"white\", \"M\"],\n",
    "    task=\"binary_classification\",\n",
    "    bootstrap_flag=True,\n",
    "    num_bootstraps=10,\n",
    "    boot_sample_size=100,\n",
    "    balanced=False,  # False is stratified, True is balanced\n",
    "    # stratify_by_outcome=True,\n",
    ")\n",
    "\n",
    "# Set seeds\n",
    "int_list = np.linspace(0, 100, num=10, dtype=int).tolist()\n",
    "\n",
    "eq2.set_fix_seeds(int_list)\n",
    "\n",
    "print(\"seeds\", eq2.seeds)\n",
    "\n",
    "eq2.grouper(groupings_vars=[\"race\", \"sex\"])\n",
    "sliced_data = eq.slicer(\"race\")\n",
    "\n",
    "data = eq2.slicer(\"race\")\n",
    "race_metrics = eq2.get_metrics(data)\n",
    "\n",
    "dispa = eq2.calculate_disparities(race_metrics, \"race\")\n",
    "\n",
    "melted = pd.DataFrame(dispa).melt()\n",
    "df = melted[\"value\"].apply(pd.Series).assign(attribute_value=melted[\"variable\"])"
   ]
  },
  {
   "cell_type": "code",
   "execution_count": null,
   "metadata": {},
   "outputs": [],
   "source": [
    "sliced = eq2.slicer(slicing_var=\"race\")"
   ]
  },
  {
   "cell_type": "markdown",
   "metadata": {},
   "source": [
    "### Disparity plots"
   ]
  },
  {
   "cell_type": "code",
   "execution_count": null,
   "metadata": {},
   "outputs": [],
   "source": [
    "eqb.eq_disparity_metrics_plot(\n",
    "    dispa,\n",
    "    metric_cols=[\n",
    "        \"Accuracy_ratio\",\n",
    "        \"Precision_ratio\",\n",
    "        \"Predicted Prevalence_ratio\",\n",
    "        \"FP Rate_ratio\",\n",
    "        \"TN Rate_ratio\",\n",
    "        \"Recall_ratio\",\n",
    "    ],\n",
    "    name=\"race\",\n",
    "    categories=\"all\",\n",
    "    figsize=(24, 4),\n",
    "    plot_kind=\"violinplot\",\n",
    "    color_by_group=True,\n",
    "    save_path=\"./images\",\n",
    ")"
   ]
  },
  {
   "cell_type": "markdown",
   "metadata": {},
   "source": [
    "### ROCAUC Bootstrap"
   ]
  },
  {
   "cell_type": "code",
   "execution_count": null,
   "metadata": {},
   "outputs": [],
   "source": [
    "eqb.eq_plot_bootstrapped_group_curves(\n",
    "    boot_sliced_data=sliced,\n",
    "    curve_type=\"roc\",\n",
    "    title=\"Bootstrapped ROC Curve by Race\",\n",
    "    filename=\"boot_roc_race\",\n",
    "    # bar_every=100,\n",
    "    dpi=100,\n",
    "    n_bins=10,\n",
    "    figsize=(6, 6),\n",
    "    color_by_group=True,\n",
    ")"
   ]
  },
  {
   "cell_type": "code",
   "execution_count": null,
   "metadata": {},
   "outputs": [],
   "source": [
    "eqb.eq_plot_bootstrapped_group_curves(\n",
    "    boot_sliced_data=sliced,\n",
    "    curve_type=\"roc\",\n",
    "    title=\"Bootstrapped ROC Curve by Race\",\n",
    "    filename=\"boot_roc_race\",\n",
    "    subplots=True,\n",
    "    bar_every=100,\n",
    "    dpi=100,\n",
    "    n_bins=10,\n",
    "    figsize=(6, 6),\n",
    "    color_by_group=True,\n",
    ")"
   ]
  },
  {
   "cell_type": "markdown",
   "metadata": {},
   "source": [
    "### Precision-Recall Bootstrap"
   ]
  },
  {
   "cell_type": "code",
   "execution_count": null,
   "metadata": {},
   "outputs": [],
   "source": [
    "eqb.eq_plot_bootstrapped_group_curves(\n",
    "    boot_sliced_data=sliced,\n",
    "    curve_type=\"pr\",\n",
    "    title=\"Bootstrapped ROC Curve by Race\",\n",
    "    figsize=(6, 6),\n",
    "    color_by_group=True,\n",
    ")"
   ]
  },
  {
   "cell_type": "code",
   "execution_count": null,
   "metadata": {},
   "outputs": [],
   "source": [
    "eqb.eq_plot_bootstrapped_group_curves(\n",
    "    boot_sliced_data=sliced,\n",
    "    curve_type=\"pr\",\n",
    "    title=\"Bootstrapped ROC Curve by Race\",\n",
    "    subplots=True,\n",
    "    bar_every=100,\n",
    "    figsize=(6, 6),\n",
    "    color_by_group=False,\n",
    ")"
   ]
  },
  {
   "cell_type": "markdown",
   "metadata": {},
   "source": [
    "### Calibration Plots Bootstrapped"
   ]
  },
  {
   "cell_type": "code",
   "execution_count": null,
   "metadata": {},
   "outputs": [],
   "source": [
    "eqb.eq_plot_bootstrapped_group_curves(\n",
    "    boot_sliced_data=sliced,\n",
    "    curve_type=\"calibration\",\n",
    "    title=\"Bootstrapped ROC Curve by Race\",\n",
    "    figsize=(6, 6),\n",
    "    color_by_group=True,\n",
    ")"
   ]
  },
  {
   "cell_type": "code",
   "execution_count": null,
   "metadata": {},
   "outputs": [],
   "source": [
    "eqb.eq_plot_bootstrapped_group_curves(\n",
    "    boot_sliced_data=sliced,\n",
    "    curve_type=\"calibration\",\n",
    "    title=\"Bootstrapped ROC Curve by Race\",\n",
    "    figsize=(6, 6),\n",
    "    subplots=True,\n",
    "    color_by_group=True,\n",
    ")"
   ]
  },
  {
   "cell_type": "markdown",
   "metadata": {},
   "source": [
    "## Regression Mock-Up"
   ]
  },
  {
   "cell_type": "code",
   "execution_count": null,
   "metadata": {},
   "outputs": [],
   "source": [
    "## Generate synthetic regression-like data\n",
    "np.random.seed(42)\n",
    "y_true = np.random.normal(loc=50, scale=10, size=1000)  ## continuous target\n",
    "y_pred = y_true + np.random.normal(\n",
    "    loc=0, scale=5, size=1000\n",
    ")  # predicted value with noise\n",
    "\n",
    "# Not really 'prob', but using this slot for predicted values\n",
    "y_prob = y_pred\n",
    "\n",
    "race = (\n",
    "    np.random.RandomState(3)\n",
    "    .choice([\"white\", \"black\", \"asian\", \"hispanic\"], 1000)\n",
    "    .reshape(-1, 1)\n",
    ")\n",
    "sex = np.random.choice([\"M\", \"F\"], 1000).reshape(-1, 1)\n",
    "\n",
    "fairness_df = pd.DataFrame(\n",
    "    data=np.concatenate((race, sex), axis=1), columns=[\"race\", \"sex\"]\n",
    ")\n",
    "\n",
    "# Initialize and process groups\n",
    "eq3 = eqb.EquiBoots(\n",
    "    y_true=y_true,\n",
    "    y_prob=y_prob,\n",
    "    y_pred=y_pred,\n",
    "    task=\"regression\",\n",
    "    fairness_df=fairness_df,\n",
    "    fairness_vars=[\"race\", \"sex\"],\n",
    ")\n",
    "eq3.grouper(groupings_vars=[\"race\", \"sex\"])\n",
    "sliced_data_2 = eq3.slicer(\"race\")"
   ]
  },
  {
   "cell_type": "markdown",
   "metadata": {},
   "source": [
    "## Regression Residuals"
   ]
  },
  {
   "cell_type": "code",
   "execution_count": null,
   "metadata": {},
   "outputs": [],
   "source": [
    "eqb.eq_plot_residuals_by_group(\n",
    "    data=sliced_data_2,\n",
    "    # y_true=y_true,\n",
    "    # y_prob=y_pred,\n",
    "    # group=\"black\",\n",
    "    title=\"Residuals by Race\",\n",
    "    filename=\"residuals_by_race\",\n",
    "    # subplots=True,\n",
    "    # group=\"black\",\n",
    "    color_by_group=True,\n",
    "    # n_cols=1,\n",
    "    # n_rows=2,\n",
    "    figsize=(8, 6),\n",
    "    show_centroids=True,\n",
    "    save_path=\"./images\",\n",
    "    exclude_groups=\"white\",\n",
    ")"
   ]
  }
 ],
 "metadata": {
  "kernelspec": {
   "display_name": "equi_venv_311",
   "language": "python",
   "name": "python3"
  },
  "language_info": {
   "codemirror_mode": {
    "name": "ipython",
    "version": 3
   },
   "file_extension": ".py",
   "mimetype": "text/x-python",
   "name": "python",
   "nbconvert_exporter": "python",
   "pygments_lexer": "ipython3",
   "version": "3.11.0"
  }
 },
 "nbformat": 4,
 "nbformat_minor": 2
}
