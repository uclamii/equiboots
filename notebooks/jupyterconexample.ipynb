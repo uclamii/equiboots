{
 "cells": [
  {
   "cell_type": "markdown",
   "id": "0",
   "metadata": {},
   "source": [
    "# Bias and Fairness Assessment (Binary Classification: Adult Income)"
   ]
  },
  {
   "cell_type": "markdown",
   "id": "1",
   "metadata": {},
   "source": [
    "### Step 1: Install and import dependencies\n"
   ]
  },
  {
   "cell_type": "code",
   "execution_count": null,
   "id": "2",
   "metadata": {},
   "outputs": [],
   "source": [
    "from ucimlrepo import fetch_ucirepo\n",
    "import pandas as pd\n",
    "import numpy as np\n",
    "from sklearn.preprocessing import LabelEncoder\n",
    "from sklearn.model_selection import train_test_split\n",
    "from xgboost import XGBClassifier\n",
    "from sklearn.metrics import classification_report"
   ]
  },
  {
   "cell_type": "code",
   "execution_count": null,
   "id": "3",
   "metadata": {},
   "outputs": [],
   "source": [
    "# fetch dataset\n",
    "adult = fetch_ucirepo(id=2)\n",
    "adult = adult.data.features.join(adult.data.targets, how=\"inner\")"
   ]
  },
  {
   "cell_type": "code",
   "execution_count": null,
   "id": "4",
   "metadata": {},
   "outputs": [],
   "source": [
    "adult.head(3)"
   ]
  },
  {
   "cell_type": "markdown",
   "id": "5",
   "metadata": {},
   "source": [
    "## Basic Preprocessing Steps"
   ]
  },
  {
   "cell_type": "markdown",
   "id": "6",
   "metadata": {},
   "source": [
    "### 1. Drop missing values"
   ]
  },
  {
   "cell_type": "code",
   "execution_count": null,
   "id": "7",
   "metadata": {},
   "outputs": [],
   "source": [
    "# Drop missing values\n",
    "adult.dropna(inplace=True)"
   ]
  },
  {
   "cell_type": "markdown",
   "id": "8",
   "metadata": {},
   "source": [
    "### 2. Copy DataFrame for posterity"
   ]
  },
  {
   "cell_type": "code",
   "execution_count": null,
   "id": "9",
   "metadata": {},
   "outputs": [],
   "source": [
    "df = adult.copy()"
   ]
  },
  {
   "cell_type": "code",
   "execution_count": null,
   "id": "10",
   "metadata": {},
   "outputs": [],
   "source": [
    "adult[\"income\"].value_counts()"
   ]
  },
  {
   "cell_type": "markdown",
   "id": "11",
   "metadata": {},
   "source": [
    "### 3. Encode categorical variables"
   ]
  },
  {
   "cell_type": "code",
   "execution_count": null,
   "id": "12",
   "metadata": {},
   "outputs": [],
   "source": [
    "def outcome_merge(val):\n",
    "    if val == \"<=50K\" or val == \"<=50K.\":\n",
    "        return 0\n",
    "    else:\n",
    "        return 1"
   ]
  },
  {
   "cell_type": "code",
   "execution_count": null,
   "id": "13",
   "metadata": {},
   "outputs": [],
   "source": [
    "df[\"income\"] = df[\"income\"].apply(outcome_merge)"
   ]
  },
  {
   "cell_type": "code",
   "execution_count": null,
   "id": "14",
   "metadata": {},
   "outputs": [],
   "source": [
    "#  sex, count and percentages above_50k\n",
    "\n",
    "income_by_sex = df.groupby(\"sex\")[\"income\"].agg(\n",
    "    [\"count\", lambda x: (x.sum() / x.count()) * 100]\n",
    ")\n",
    "income_by_sex.columns = [\"count\", \"percentage_above_50k\"]\n",
    "income_by_sex"
   ]
  },
  {
   "cell_type": "code",
   "execution_count": null,
   "id": "15",
   "metadata": {},
   "outputs": [],
   "source": [
    "#  race, count and percentages above_50k\n",
    "\n",
    "income_by_race = df.groupby(\"race\")[\"income\"].agg(\n",
    "    [\"count\", lambda x: (x.sum() / x.count()) * 100]\n",
    ")\n",
    "income_by_race.columns = [\"count\", \"percentage_above_50k\"]\n",
    "income_by_race"
   ]
  },
  {
   "cell_type": "code",
   "execution_count": null,
   "id": "16",
   "metadata": {},
   "outputs": [],
   "source": [
    "df['race'] = df['race'].replace(\"Amer-Indian-Eskimo\", \"Native American or Inuit\")"
   ]
  },
  {
   "cell_type": "markdown",
   "id": "17",
   "metadata": {},
   "source": [
    "### 4. Split the data"
   ]
  },
  {
   "cell_type": "code",
   "execution_count": null,
   "id": "18",
   "metadata": {},
   "outputs": [],
   "source": [
    "# Split data\n",
    "X = df.drop(\"income\", axis=1)\n",
    "y = df[\"income\"]"
   ]
  },
  {
   "cell_type": "code",
   "execution_count": null,
   "id": "19",
   "metadata": {},
   "outputs": [],
   "source": [
    "for col in X.columns:\n",
    "    if isinstance(X[col], object):\n",
    "        X[col] = X[col].astype(\"category\")"
   ]
  },
  {
   "cell_type": "code",
   "execution_count": null,
   "id": "20",
   "metadata": {},
   "outputs": [],
   "source": [
    "X_train, X_test, y_train, y_test = train_test_split(\n",
    "    X,\n",
    "    y,\n",
    "    test_size=0.2,\n",
    "    random_state=42,\n",
    ")"
   ]
  },
  {
   "cell_type": "code",
   "execution_count": null,
   "id": "21",
   "metadata": {},
   "outputs": [],
   "source": [
    "y_train.value_counts()"
   ]
  },
  {
   "cell_type": "markdown",
   "id": "22",
   "metadata": {},
   "source": [
    "## Train XGBoost Model"
   ]
  },
  {
   "cell_type": "code",
   "execution_count": null,
   "id": "23",
   "metadata": {},
   "outputs": [],
   "source": [
    "model = XGBClassifier(eval_metric=\"logloss\", random_state=42, enable_categorical=True)\n",
    "model.fit(X_train, y_train)"
   ]
  },
  {
   "cell_type": "markdown",
   "id": "24",
   "metadata": {},
   "source": [
    "## Evaluate XGBoost Model"
   ]
  },
  {
   "cell_type": "code",
   "execution_count": null,
   "id": "25",
   "metadata": {},
   "outputs": [],
   "source": [
    "y_pred = model.predict(X_test)\n",
    "y_prob = model.predict_proba(X_test)\n",
    "print(classification_report(y_test, y_pred))"
   ]
  },
  {
   "cell_type": "markdown",
   "id": "26",
   "metadata": {},
   "source": [
    "# Bias and Fairness Analysis with EquiBoots\n",
    "\n",
    "**Equiboots supports a point estimate fairness analysis on a model's operating point (e.g., optimal threshold) as well as on multiple bootstraps with replacement.**\n",
    "\n",
    "\n",
    "To initialize an analysis with equiboots:\n",
    "\n",
    "1. Define a fairness Dataframe with the variables of interest.\n",
    "2. Initialize an equiboots object using:\n",
    "    - Ground truth (y_true)\n",
    "    - Model probabilities (y_prob)\n",
    "    - Model predictions (y_pred)\n",
    "3. Identify the columns/variables that we will be assessing (e.g., race, sex)"
   ]
  },
  {
   "cell_type": "code",
   "execution_count": null,
   "id": "27",
   "metadata": {},
   "outputs": [],
   "source": [
    "import equiboots as eqb"
   ]
  },
  {
   "cell_type": "code",
   "execution_count": null,
   "id": "28",
   "metadata": {},
   "outputs": [],
   "source": [
    "# get predictions and true values\n",
    "y_pred = model.predict(X_test)\n",
    "y_prob = model.predict_proba(X_test)[:,1]\n",
    "y_test = y_test.to_numpy()\n",
    "\n",
    "X_test[['race', 'sex']] = X_test[['race', 'sex']].astype(str)"
   ]
  },
  {
   "cell_type": "markdown",
   "id": "29",
   "metadata": {},
   "source": [
    "## Point Estimates"
   ]
  },
  {
   "cell_type": "code",
   "execution_count": null,
   "id": "30",
   "metadata": {},
   "outputs": [],
   "source": [
    "sensitive_features = ['race', 'sex']\n",
    "\n",
    "fairness_df = X_test[sensitive_features].reset_index(drop=True)\n",
    "\n",
    "eq = eqb.EquiBoots(y_true=y_test, y_pred=y_pred, y_prob=y_prob, fairness_df=fairness_df, fairness_vars=sensitive_features)\n",
    "\n",
    "eq.grouper(groupings_vars=sensitive_features)"
   ]
  },
  {
   "cell_type": "code",
   "execution_count": null,
   "id": "31",
   "metadata": {},
   "outputs": [],
   "source": [
    "sliced_race_data = eq.slicer(\"race\")\n",
    "sliced_sex_data = eq.slicer(\"sex\")\n",
    "\n",
    "race_metrics = eq.get_metrics(sliced_race_data)\n",
    "sex_metrics = eq.get_metrics(sliced_sex_data)"
   ]
  },
  {
   "cell_type": "code",
   "execution_count": null,
   "id": "32",
   "metadata": {},
   "outputs": [],
   "source": [
    "eqb.eq_plot_group_curves(\n",
    "    sliced_race_data,\n",
    "    curve_type=\"roc\",\n",
    "    title=\"ROC AUC by Race Group\",\n",
    "    exclude_groups=['Other', 'Amer-Indian-Eskimo']\n",
    ")"
   ]
  },
  {
   "cell_type": "code",
   "execution_count": null,
   "id": "33",
   "metadata": {},
   "outputs": [],
   "source": [
    "test_config = {\n",
    "    \"test_type\": \"chi_square\",\n",
    "    \"alpha\": 0.05,\n",
    "    \"adjust_method\": \"bonferroni\",\n",
    "    \"confidence_level\": 0.95,\n",
    "    \"classification_task\": \"binary_classification\"\n",
    "}"
   ]
  },
  {
   "cell_type": "code",
   "execution_count": null,
   "id": "34",
   "metadata": {},
   "outputs": [],
   "source": [
    "stat_test_results_race = eq.analyze_statistical_significance(race_metrics, \"race\", test_config)"
   ]
  },
  {
   "cell_type": "code",
   "execution_count": null,
   "id": "35",
   "metadata": {},
   "outputs": [],
   "source": [
    "stat_test_results_sex = eq.analyze_statistical_significance(sex_metrics, \"sex\", test_config)"
   ]
  },
  {
   "cell_type": "code",
   "execution_count": null,
   "id": "36",
   "metadata": {},
   "outputs": [],
   "source": [
    "stat_test_results_sex"
   ]
  },
  {
   "cell_type": "code",
   "execution_count": null,
   "id": "37",
   "metadata": {},
   "outputs": [],
   "source": [
    "race_metrics.pop('Other')"
   ]
  },
  {
   "cell_type": "code",
   "execution_count": null,
   "id": "38",
   "metadata": {},
   "outputs": [],
   "source": [
    "eqb.eq_plot_metrics_forest(\n",
    "    group_metrics=race_metrics,\n",
    "    metric_name=\"Precision\",\n",
    "    title=\"Forest Plot: Precision Across Groups\",\n",
    "    reference_group=\"White\",\n",
    "    statistical_tests=stat_test_results_race,\n",
    "    \n",
    ")"
   ]
  },
  {
   "cell_type": "code",
   "execution_count": null,
   "id": "39",
   "metadata": {},
   "outputs": [],
   "source": [
    "eqb.eq_plot_metrics_forest(\n",
    "    group_metrics=race_metrics,\n",
    "    metric_name=\"Recall\",\n",
    "    title=\"Forest Plot: Recall Across Groups\",\n",
    "    reference_group=\"White\",\n",
    "    statistical_tests=stat_test_results_race,\n",
    "    \n",
    ")"
   ]
  },
  {
   "cell_type": "code",
   "execution_count": null,
   "id": "40",
   "metadata": {},
   "outputs": [],
   "source": [
    "int_list = np.linspace(0, len(y_test), num=len(y_test), dtype=int).tolist()\n"
   ]
  },
  {
   "cell_type": "code",
   "execution_count": null,
   "id": "41",
   "metadata": {},
   "outputs": [],
   "source": [
    "eqb_bootstrap = eqb.EquiBoots(\n",
    "    y_true=y_test,\n",
    "    y_pred=y_pred,\n",
    "    y_prob=y_prob,\n",
    "    fairness_df=fairness_df,\n",
    "    fairness_vars=['race'],\n",
    "    seeds=int_list,\n",
    "    reference_groups=['White'],\n",
    "    task=\"binary_classification\",\n",
    "    bootstrap_flag=True,\n",
    "    num_bootstraps=5001,\n",
    "    boot_sample_size=len(y_test),\n",
    "    stratify_by_outcome=True,\n",
    "    balanced=True,\n",
    "    )"
   ]
  },
  {
   "cell_type": "code",
   "execution_count": null,
   "id": "42",
   "metadata": {},
   "outputs": [],
   "source": [
    "print(eqb_bootstrap.seeds)"
   ]
  },
  {
   "cell_type": "code",
   "execution_count": null,
   "id": "43",
   "metadata": {},
   "outputs": [],
   "source": [
    "eqb_bootstrap.grouper(groupings_vars=['race'])"
   ]
  },
  {
   "cell_type": "code",
   "execution_count": null,
   "id": "44",
   "metadata": {},
   "outputs": [],
   "source": [
    "bootstrap_race_data = eqb_bootstrap.slicer(\"race\")"
   ]
  },
  {
   "cell_type": "code",
   "execution_count": null,
   "id": "45",
   "metadata": {},
   "outputs": [],
   "source": [
    "boots_race_metrics = eqb_bootstrap.get_metrics(bootstrap_race_data)"
   ]
  },
  {
   "cell_type": "code",
   "execution_count": null,
   "id": "46",
   "metadata": {},
   "outputs": [],
   "source": [
    "diffs = eqb_bootstrap.calculate_differences(boots_race_metrics, \"race\")"
   ]
  },
  {
   "cell_type": "code",
   "execution_count": null,
   "id": "47",
   "metadata": {},
   "outputs": [],
   "source": [
    "# metrics to perform a statistical test\n",
    "metrics_boot = [\n",
    "\n",
    "    \"F1_Score_diff\",\n",
    "    \"ROC_AUC_diff\",\n",
    "    \"Average_Precision_Score_diff\",\n",
    "]\n",
    "\n",
    "# configuration dictionary to provide parameters around statistical testing\n",
    "test_config = {\n",
    "    \"test_type\": \"bootstrap_test\",\n",
    "    \"alpha\": 0.05,\n",
    "    \"adjust_method\": \"bonferroni\",\n",
    "    \"confidence_level\": 0.95,\n",
    "    \"classification_task\": \"binary_classification\",\n",
    "    \"tail_type\": \"two_tailed\",\n",
    "    \"metrics\": metrics_boot,\n",
    "}\n",
    "\n",
    "\n",
    "stat_test_results = eq.analyze_statistical_significance(\n",
    "    metric_dict=boots_race_metrics,  # pass variable sliced metrics\n",
    "    var_name=\"race\",  # variable name\n",
    "    test_config=test_config,  # configuration\n",
    "    differences=diffs,  # the differences of each race group\n",
    ")"
   ]
  },
  {
   "cell_type": "code",
   "execution_count": null,
   "id": "48",
   "metadata": {},
   "outputs": [],
   "source": [
    "eqb.eq_group_metrics_plot(\n",
    "    group_metrics=diffs,\n",
    "    metric_cols=metrics_boot,\n",
    "    name=\"race\",\n",
    "    categories=\"all\",\n",
    "    figsize=(14,5),\n",
    "    plot_type=\"violinplot\",\n",
    "    color_by_group=True,\n",
    "    show_grid=True,\n",
    "    max_cols=3,\n",
    "    statistical_tests=stat_test_results,\n",
    ")"
   ]
  },
  {
   "cell_type": "code",
   "execution_count": null,
   "id": "49",
   "metadata": {},
   "outputs": [],
   "source": [
    "group_thresholds_sex = eqb.find_group_thresholds(\n",
    "    y_true=y_test,\n",
    "    y_prob=y_prob,\n",
    "    reference_group='Male',\n",
    "    group_vec=fairness_df['sex'],\n",
    "    threshold_range=(0.1, 0.9),\n",
    "    n_steps=100,\n",
    "    default_threshold=0.5\n",
    ")"
   ]
  },
  {
   "cell_type": "code",
   "execution_count": null,
   "id": "50",
   "metadata": {},
   "outputs": [],
   "source": [
    "group_thresholds_race = eqb.find_group_thresholds(\n",
    "    y_true=y_test,\n",
    "    y_prob=y_prob,\n",
    "    reference_group='White',\n",
    "    group_vec=fairness_df['race'],\n",
    "    threshold_range=(0.1, 0.9),\n",
    "    n_steps=100,\n",
    "    default_threshold=0.5\n",
    ")"
   ]
  },
  {
   "cell_type": "code",
   "execution_count": null,
   "id": "51",
   "metadata": {},
   "outputs": [],
   "source": [
    "sex_labels = fairness_df[\"sex\"].values\n",
    "race_labels = fairness_df[\"race\"].values\n",
    "y_pred_grouped_thresh = eqb.grouped_threshold_predict(y_prob, sex_labels, group_thresholds_sex)\n",
    "y_pred_grouped_thresh_race = eqb.grouped_threshold_predict(y_prob, race_labels, group_thresholds_race)"
   ]
  },
  {
   "cell_type": "code",
   "execution_count": null,
   "id": "52",
   "metadata": {},
   "outputs": [],
   "source": [
    "eq_adjusted = eqb.EquiBoots(\n",
    "    y_true=y_test,                        \n",
    "    y_prob=y_prob,                        \n",
    "    y_pred=y_pred_grouped_thresh_race,        \n",
    "    fairness_df=fairness_df,                             \n",
    "    fairness_vars=[\"race\", \"sex\"],\n",
    "    group_min_size=90\n",
    ")\n",
    "\n",
    "eq_adjusted.grouper(groupings_vars=[\"race\", \"sex\"])\n"
   ]
  },
  {
   "cell_type": "code",
   "execution_count": null,
   "id": "53",
   "metadata": {},
   "outputs": [],
   "source": [
    "# Extract subgroup data by race\n",
    "sliced_race_data_adjusted = eq_adjusted.slicer(\"race\")\n",
    "sliced_sex_data_adjusted = eq_adjusted.slicer(\"sex\")\n",
    "\n",
    "# Compute fairness performance metrics for each racial group using adjusted predictions\n",
    "sex_metrics_adjusted = eq_adjusted.get_metrics(sliced_sex_data_adjusted)\n",
    "race_metrics_adjusted = eq_adjusted.get_metrics(sliced_race_data_adjusted)\n"
   ]
  },
  {
   "cell_type": "code",
   "execution_count": null,
   "id": "54",
   "metadata": {},
   "outputs": [],
   "source": [
    "eqb.eq_plot_metrics_forest(\n",
    "    group_metrics=race_metrics_adjusted,\n",
    "    metric_name=\"Recall\",\n",
    "    title=\"Forest Plot: Recall Across Groups\",\n",
    "    reference_group=\"White\",\n",
    ")"
   ]
  },
  {
   "cell_type": "code",
   "execution_count": null,
   "id": "55",
   "metadata": {},
   "outputs": [],
   "source": [
    "eqb.eq_plot_metrics_forest(\n",
    "    group_metrics=sex_metrics_adjusted,\n",
    "    metric_name=\"Recall\",\n",
    "    title=\"Forest Plot: Recall Across Groups\",\n",
    "    reference_group=\"Male\",\n",
    ")"
   ]
  },
  {
   "cell_type": "code",
   "execution_count": null,
   "id": "56",
   "metadata": {},
   "outputs": [],
   "source": []
  }
 ],
 "metadata": {
  "kernelspec": {
   "display_name": "equiboots",
   "language": "python",
   "name": "python3"
  },
  "language_info": {
   "codemirror_mode": {
    "name": "ipython",
    "version": 3
   },
   "file_extension": ".py",
   "mimetype": "text/x-python",
   "name": "python",
   "nbconvert_exporter": "python",
   "pygments_lexer": "ipython3",
   "version": "3.11.11"
  }
 },
 "nbformat": 4,
 "nbformat_minor": 5
}
