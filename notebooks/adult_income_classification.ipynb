{
 "cells": [
  {
   "cell_type": "markdown",
   "metadata": {},
   "source": [
    "## Adult Income Dataset"
   ]
  },
  {
   "cell_type": "markdown",
   "metadata": {},
   "source": [
    "## Import Requisite Libraries"
   ]
  },
  {
   "cell_type": "code",
   "execution_count": 1,
   "metadata": {},
   "outputs": [],
   "source": [
    "import model_tuner"
   ]
  },
  {
   "cell_type": "code",
   "execution_count": 2,
   "metadata": {},
   "outputs": [
    {
     "name": "stdout",
     "output_type": "stream",
     "text": [
      "  \n",
      "\n",
      "$$$$$$$$$$$$$$$$$$$$$$$$$$$$$$$$$$$$$$$$$$$$$$$$$$$$$$$$$$$$$$$$$$$\n",
      "$      __  __           _      _   _____                          $ \n",
      "$     |  \\/  | ___   __| | ___| | |_   _|   _ _ __   ___ _ __     $\n",
      "$     | |\\/| |/ _ \\ / _` |/ _ \\ |   | || | | | '_ \\ / _ \\ '__|    $\n",
      "$     | |  | | (_) | (_| |  __/ |   | || |_| | | | |  __/ |       $\n",
      "$     |_|  |_|\\___/ \\__,_|\\___|_|   |_| \\__,_|_| |_|\\___|_|       $\n",
      "$                                                                 $\n",
      "$$$$$$$$$$$$$$$$$$$$$$$$$$$$$$$$$$$$$$$$$$$$$$$$$$$$$$$$$$$$$$$$$$$\n",
      "\n",
      "\n",
      "                                                               \n",
      "The `model_tuner` library is a versatile and powerful tool designed to \n",
      "facilitate the training, tuning, and evaluation of machine learning models. \n",
      "It supports various functionalities such as handling imbalanced data, applying \n",
      "different scaling and imputation techniques, calibrating models, and conducting \n",
      "cross-validation. This library is particularly useful for hyperparameter tuning\n",
      "and ensuring optimal performance across different metrics.\n",
      "\n",
      "PyPI: https://pypi.org/project/model-tuner/\n",
      "Documentation: https://uclamii.github.io/model_tuner/\n",
      "\n",
      "\n",
      "Version: 0.0.29b1\n",
      "\n",
      "\n"
     ]
    }
   ],
   "source": [
    "help(model_tuner)"
   ]
  },
  {
   "cell_type": "code",
   "execution_count": 3,
   "metadata": {},
   "outputs": [],
   "source": [
    "from ucimlrepo import fetch_ucirepo\n",
    "import pandas as pd\n",
    "import numpy as np\n",
    "from xgboost import XGBClassifier\n",
    "from sklearn.preprocessing import StandardScaler, OneHotEncoder\n",
    "from sklearn.impute import SimpleImputer\n",
    "from sklearn.pipeline import Pipeline\n",
    "from sklearn.compose import ColumnTransformer\n",
    "from model_tuner import Model"
   ]
  },
  {
   "cell_type": "code",
   "execution_count": 4,
   "metadata": {},
   "outputs": [],
   "source": [
    "from eda_toolkit import add_ids"
   ]
  },
  {
   "cell_type": "code",
   "execution_count": 5,
   "metadata": {},
   "outputs": [],
   "source": [
    "# # fetch dataset\n",
    "# adult = fetch_ucirepo(id=2)\n",
    "\n",
    "# adult = adult.data.features.join(adult.data.targets, how=\"inner\")\n",
    "\n",
    "# adult = add_ids(df=adult, id_colname=\"Adult_ID\", num_digits=9).set_index(\n",
    "#     \"Adult_ID\",\n",
    "# )\n",
    "\n",
    "adult = pd.read_parquet(\"df.parquet\")\n",
    "adult\n",
    "# data (as pandas dataframes)\n",
    "X = adult[[col for col in adult.columns if not \"income\" in col]]\n",
    "y = adult[[\"income\"]]"
   ]
  },
  {
   "cell_type": "code",
   "execution_count": 6,
   "metadata": {},
   "outputs": [
    {
     "name": "stdout",
     "output_type": "stream",
     "text": [
      "--------------------------------------------------------------------------------\n",
      "X\n",
      "--------------------------------------------------------------------------------\n",
      "           age         workclass  fnlwgt  education  education-num  \\\n",
      "census_id                                                            \n",
      "582248222   39         State-gov   77516  Bachelors             13   \n",
      "561810758   50  Self-emp-not-inc   83311  Bachelors             13   \n",
      "598098459   38           Private  215646    HS-grad              9   \n",
      "776705221   53           Private  234721       11th              7   \n",
      "479262902   28           Private  338409  Bachelors             13   \n",
      "\n",
      "               marital-status         occupation   relationship   race  \\\n",
      "census_id                                                                \n",
      "582248222       Never-married       Adm-clerical  Not-in-family  White   \n",
      "561810758  Married-civ-spouse    Exec-managerial        Husband  White   \n",
      "598098459            Divorced  Handlers-cleaners  Not-in-family  White   \n",
      "776705221  Married-civ-spouse  Handlers-cleaners        Husband  Black   \n",
      "479262902  Married-civ-spouse     Prof-specialty           Wife  Black   \n",
      "\n",
      "              sex  capital-gain  capital-loss  hours-per-week native-country  \n",
      "census_id                                                                     \n",
      "582248222    Male          2174             0              40  United-States  \n",
      "561810758    Male             0             0              13  United-States  \n",
      "598098459    Male             0             0              40  United-States  \n",
      "776705221    Male             0             0              40  United-States  \n",
      "479262902  Female             0             0              40           Cuba  \n"
     ]
    }
   ],
   "source": [
    "print(\"-\" * 80)\n",
    "print(\"X\")\n",
    "print(\"-\" * 80)\n",
    "\n",
    "print(X.head())  # inspect first 5 rows of X"
   ]
  },
  {
   "cell_type": "code",
   "execution_count": 7,
   "metadata": {},
   "outputs": [
    {
     "name": "stdout",
     "output_type": "stream",
     "text": [
      "--------------------------------------------------------------------------------\n",
      "y = Outcome = Income\n",
      "--------------------------------------------------------------------------------\n",
      "\n",
      "          income\n",
      "census_id       \n",
      "582248222  <=50K\n",
      "561810758  <=50K\n",
      "598098459  <=50K\n",
      "776705221  <=50K\n",
      "479262902  <=50K\n",
      "\n",
      " Income Value Counts: \n",
      "\n",
      "income\n",
      "<=50K    37155\n",
      ">50K     11687\n",
      "Name: count, dtype: int64\n"
     ]
    }
   ],
   "source": [
    "print(\"-\" * 80)\n",
    "print(\"y = Outcome = Income\")\n",
    "print(\"-\" * 80)\n",
    "\n",
    "print(f\"\\n{y.head()}\")  # inspect first 5 rows of y\n",
    "\n",
    "y.loc[:, \"income\"] = y[\"income\"].str.rstrip(\".\")  # Remove trailing periods\n",
    "\n",
    "print(f\"\\n Income Value Counts: \\n\")\n",
    "# Check the updated value counts\n",
    "print(y[\"income\"].value_counts())\n",
    "\n",
    "y = y[\"income\"].map({\"<=50K\": 0, \">50K\": 1})\n",
    "\n",
    "outcome = [\"y\"]"
   ]
  },
  {
   "cell_type": "code",
   "execution_count": 8,
   "metadata": {},
   "outputs": [],
   "source": [
    "# >2 categories\n",
    "categorical_features = [\n",
    "    \"workclass\",\n",
    "    \"education\",\n",
    "    \"marital-status\",\n",
    "    \"occupation\",\n",
    "    \"relationship\",\n",
    "    \"race\",\n",
    "    \"sex\",\n",
    "    \"native-country\",\n",
    "    \"race\",\n",
    "]"
   ]
  },
  {
   "cell_type": "code",
   "execution_count": 9,
   "metadata": {},
   "outputs": [],
   "source": [
    "# continuous or binary\n",
    "numerical_features = X.select_dtypes(np.number).columns.to_list()"
   ]
  },
  {
   "cell_type": "code",
   "execution_count": 10,
   "metadata": {},
   "outputs": [],
   "source": [
    "xgb_name = \"xgb\"\n",
    "xgb = XGBClassifier(\n",
    "    objective=\"binary:logistic\",\n",
    "    random_state=222,\n",
    "    tree_method=\"hist\",\n",
    "    device=\"cuda\",\n",
    ")\n",
    "xgbearly = True\n",
    "tuned_parameters_xgb = {\n",
    "    f\"{xgb_name}__max_depth\": [3, 10, 20, 200, 500],\n",
    "    f\"{xgb_name}__learning_rate\": [1e-4],\n",
    "    f\"{xgb_name}__n_estimators\": [1000],\n",
    "    f\"{xgb_name}__early_stopping_rounds\": [100],\n",
    "    f\"{xgb_name}__verbose\": [0],\n",
    "    f\"{xgb_name}__eval_metric\": [\"logloss\"],\n",
    "}\n",
    "\n",
    "xgb_definition = {\n",
    "    \"clc\": xgb,\n",
    "    \"estimator_name\": xgb_name,\n",
    "    \"tuned_parameters\": tuned_parameters_xgb,\n",
    "    \"randomized_grid\": False,\n",
    "    \"n_iter\": 5,\n",
    "    \"early\": xgbearly,\n",
    "}\n",
    "\n",
    "model_definitions = {\n",
    "    xgb_name: xgb_definition,\n",
    "}\n",
    "\n",
    "# Define transformers for different column types\n",
    "numerical_transformer = Pipeline(\n",
    "    steps=[\n",
    "        (\"scaler\", StandardScaler()),\n",
    "        (\"imputer\", SimpleImputer(strategy=\"mean\")),\n",
    "    ]\n",
    ")\n",
    "\n",
    "categorical_transformer = Pipeline(\n",
    "    steps=[\n",
    "        (\"imputer\", SimpleImputer(strategy=\"constant\", fill_value=\"missing\")),\n",
    "        (\"encoder\", OneHotEncoder(handle_unknown=\"ignore\")),\n",
    "    ]\n",
    ")\n",
    "\n",
    "# Create the ColumnTransformer with passthrough\n",
    "preprocessor = ColumnTransformer(\n",
    "    transformers=[\n",
    "        (\"num\", numerical_transformer, numerical_features),\n",
    "        (\"cat\", categorical_transformer, categorical_features),\n",
    "    ],\n",
    "    remainder=\"passthrough\",\n",
    ")"
   ]
  },
  {
   "cell_type": "code",
   "execution_count": 11,
   "metadata": {},
   "outputs": [],
   "source": [
    "model_type = \"xgb\"\n",
    "clc = xgb_definition[\"clc\"]\n",
    "estimator_name = xgb_definition[\"estimator_name\"]\n",
    "\n",
    "tuned_parameters = xgb_definition[\"tuned_parameters\"]\n",
    "n_iter = xgb_definition[\"n_iter\"]\n",
    "rand_grid = xgb_definition[\"randomized_grid\"]\n",
    "early_stop = xgb_definition[\"early\"]\n",
    "kfold = False\n",
    "calibrate = True"
   ]
  },
  {
   "cell_type": "code",
   "execution_count": 12,
   "metadata": {},
   "outputs": [],
   "source": [
    "model_xgb = Model(\n",
    "    name=f\"AIDS_Clinical_{model_type}\",\n",
    "    estimator_name=estimator_name,\n",
    "    calibrate=calibrate,\n",
    "    estimator=clc,\n",
    "    model_type=\"classification\",\n",
    "    kfold=kfold,\n",
    "    pipeline_steps=[(\"ColumnTransformer\", preprocessor)],\n",
    "    stratify_y=True,\n",
    "    stratify_cols=[\"race\", \"sex\"],\n",
    "    grid=tuned_parameters,\n",
    "    randomized_grid=rand_grid,\n",
    "    boost_early=early_stop,\n",
    "    scoring=[\"roc_auc\"],\n",
    "    random_state=222,\n",
    "    n_jobs=2,\n",
    ")"
   ]
  },
  {
   "cell_type": "code",
   "execution_count": 13,
   "metadata": {},
   "outputs": [
    {
     "name": "stdout",
     "output_type": "stream",
     "text": [
      "\n",
      "Pipeline Steps:\n",
      "\n",
      "┌───────────────────────────────────────────────────────────┐\n",
      "│ Step 1: preprocess_column_transformer_ColumnTransformer   │\n",
      "│ ColumnTransformer                                         │\n",
      "└───────────────────────────────────────────────────────────┘\n",
      "                             │\n",
      "                             ▼\n",
      "┌───────────────────────────────────────────────────────────┐\n",
      "│ Step 2: xgb                                               │\n",
      "│ XGBClassifier                                             │\n",
      "└───────────────────────────────────────────────────────────┘\n",
      "\n"
     ]
    },
    {
     "name": "stderr",
     "output_type": "stream",
     "text": [
      "  0%|          | 0/5 [00:00<?, ?it/s]/home/lshpaner/Documents/GitHub_Repositories/equi_boots/equi_venv_311/lib/python3.11/site-packages/xgboost/core.py:158: UserWarning: [13:24:46] WARNING: /workspace/src/common/error_msg.cc:58: Falling back to prediction using DMatrix due to mismatched devices. This might lead to higher memory usage and slower performance. XGBoost is running on: cuda:0, while the input data is on: cpu.\n",
      "Potential solutions:\n",
      "- Use a data structure that matches the device ordinal in the booster.\n",
      "- Set the device for booster before call to inplace_predict.\n",
      "\n",
      "This warning will only be shown once.\n",
      "\n",
      "  warnings.warn(smsg, UserWarning)\n",
      "100%|██████████| 5/5 [00:43<00:00,  8.61s/it]\n"
     ]
    },
    {
     "name": "stdout",
     "output_type": "stream",
     "text": [
      "Fitting model with best params and tuning for best threshold ...\n"
     ]
    },
    {
     "name": "stderr",
     "output_type": "stream",
     "text": [
      "100%|██████████| 2/2 [00:00<00:00,  3.71it/s]"
     ]
    },
    {
     "name": "stdout",
     "output_type": "stream",
     "text": [
      "Best score/param set found on validation set:\n",
      "{'params': {'xgb__early_stopping_rounds': 100,\n",
      "            'xgb__eval_metric': 'logloss',\n",
      "            'xgb__learning_rate': 0.0001,\n",
      "            'xgb__max_depth': 10,\n",
      "            'xgb__n_estimators': 1000},\n",
      " 'score': 0.9053881278013094}\n",
      "Best roc_auc: 0.905 \n",
      "\n"
     ]
    },
    {
     "name": "stderr",
     "output_type": "stream",
     "text": [
      "\n"
     ]
    }
   ],
   "source": [
    "model_xgb.grid_search_param_tuning(X, y, f1_beta_tune=True)"
   ]
  },
  {
   "cell_type": "code",
   "execution_count": 14,
   "metadata": {},
   "outputs": [],
   "source": [
    "X_train, y_train = model_xgb.get_train_data(X, y)\n",
    "X_test, y_test = model_xgb.get_test_data(X, y)\n",
    "X_valid, y_valid = model_xgb.get_valid_data(X, y)"
   ]
  },
  {
   "cell_type": "code",
   "execution_count": 15,
   "metadata": {},
   "outputs": [],
   "source": [
    "model_xgb.fit(X_train, y_train, validation_data=[X_valid, y_valid])"
   ]
  },
  {
   "cell_type": "markdown",
   "metadata": {},
   "source": [
    "## Return Metrics (Optional)"
   ]
  },
  {
   "cell_type": "code",
   "execution_count": 16,
   "metadata": {},
   "outputs": [
    {
     "name": "stdout",
     "output_type": "stream",
     "text": [
      "Validation Metrics\n",
      "Confusion matrix on set provided: \n",
      "--------------------------------------------------------------------------------\n",
      "          Predicted:\n",
      "              Pos    Neg\n",
      "--------------------------------------------------------------------------------\n",
      "Actual: Pos 2265 (tp)    73 (fn)\n",
      "        Neg 3267 (fp)  4163 (tn)\n",
      "--------------------------------------------------------------------------------\n",
      "--------------------------------------------------------------------------------\n",
      "\n",
      "              precision    recall  f1-score   support\n",
      "\n",
      "           0       0.98      0.56      0.71      7430\n",
      "           1       0.41      0.97      0.58      2338\n",
      "\n",
      "    accuracy                           0.66      9768\n",
      "   macro avg       0.70      0.76      0.64      9768\n",
      "weighted avg       0.85      0.66      0.68      9768\n",
      "\n",
      "--------------------------------------------------------------------------------\n"
     ]
    }
   ],
   "source": [
    "print(\"Validation Metrics\")\n",
    "model_xgb.return_metrics(X_valid, y_valid, optimal_threshold=True)"
   ]
  },
  {
   "cell_type": "code",
   "execution_count": 17,
   "metadata": {},
   "outputs": [
    {
     "name": "stdout",
     "output_type": "stream",
     "text": [
      "Test Metrics\n",
      "Confusion matrix on set provided: \n",
      "--------------------------------------------------------------------------------\n",
      "          Predicted:\n",
      "              Pos    Neg\n",
      "--------------------------------------------------------------------------------\n",
      "Actual: Pos 2269 (tp)    68 (fn)\n",
      "        Neg 3336 (fp)  4096 (tn)\n",
      "--------------------------------------------------------------------------------\n",
      "--------------------------------------------------------------------------------\n",
      "\n",
      "              precision    recall  f1-score   support\n",
      "\n",
      "           0       0.98      0.55      0.71      7432\n",
      "           1       0.40      0.97      0.57      2337\n",
      "\n",
      "    accuracy                           0.65      9769\n",
      "   macro avg       0.69      0.76      0.64      9769\n",
      "weighted avg       0.85      0.65      0.67      9769\n",
      "\n",
      "--------------------------------------------------------------------------------\n"
     ]
    }
   ],
   "source": [
    "print(\"Test Metrics\")\n",
    "model_xgb.return_metrics(X_test, y_test, optimal_threshold=True)"
   ]
  },
  {
   "cell_type": "markdown",
   "metadata": {},
   "source": [
    "## Extract Predicted Probabilities"
   ]
  },
  {
   "cell_type": "code",
   "execution_count": 18,
   "metadata": {},
   "outputs": [],
   "source": [
    "y_prob = model_xgb.predict_proba(X_test)"
   ]
  },
  {
   "cell_type": "code",
   "execution_count": 19,
   "metadata": {},
   "outputs": [
    {
     "data": {
      "text/html": [
       "<div>\n",
       "<style scoped>\n",
       "    .dataframe tbody tr th:only-of-type {\n",
       "        vertical-align: middle;\n",
       "    }\n",
       "\n",
       "    .dataframe tbody tr th {\n",
       "        vertical-align: top;\n",
       "    }\n",
       "\n",
       "    .dataframe thead th {\n",
       "        text-align: right;\n",
       "    }\n",
       "</style>\n",
       "<table border=\"1\" class=\"dataframe\">\n",
       "  <thead>\n",
       "    <tr style=\"text-align: right;\">\n",
       "      <th></th>\n",
       "      <th>0</th>\n",
       "      <th>1</th>\n",
       "    </tr>\n",
       "  </thead>\n",
       "  <tbody>\n",
       "    <tr>\n",
       "      <th>0</th>\n",
       "      <td>0.732720</td>\n",
       "      <td>0.267280</td>\n",
       "    </tr>\n",
       "    <tr>\n",
       "      <th>1</th>\n",
       "      <td>0.757513</td>\n",
       "      <td>0.242487</td>\n",
       "    </tr>\n",
       "    <tr>\n",
       "      <th>2</th>\n",
       "      <td>0.671364</td>\n",
       "      <td>0.328636</td>\n",
       "    </tr>\n",
       "    <tr>\n",
       "      <th>3</th>\n",
       "      <td>0.695807</td>\n",
       "      <td>0.304193</td>\n",
       "    </tr>\n",
       "    <tr>\n",
       "      <th>4</th>\n",
       "      <td>0.763796</td>\n",
       "      <td>0.236204</td>\n",
       "    </tr>\n",
       "    <tr>\n",
       "      <th>...</th>\n",
       "      <td>...</td>\n",
       "      <td>...</td>\n",
       "    </tr>\n",
       "    <tr>\n",
       "      <th>9764</th>\n",
       "      <td>0.763796</td>\n",
       "      <td>0.236204</td>\n",
       "    </tr>\n",
       "    <tr>\n",
       "      <th>9765</th>\n",
       "      <td>0.720224</td>\n",
       "      <td>0.279776</td>\n",
       "    </tr>\n",
       "    <tr>\n",
       "      <th>9766</th>\n",
       "      <td>0.763796</td>\n",
       "      <td>0.236204</td>\n",
       "    </tr>\n",
       "    <tr>\n",
       "      <th>9767</th>\n",
       "      <td>0.763796</td>\n",
       "      <td>0.236204</td>\n",
       "    </tr>\n",
       "    <tr>\n",
       "      <th>9768</th>\n",
       "      <td>0.697824</td>\n",
       "      <td>0.302176</td>\n",
       "    </tr>\n",
       "  </tbody>\n",
       "</table>\n",
       "<p>9769 rows × 2 columns</p>\n",
       "</div>"
      ],
      "text/plain": [
       "             0         1\n",
       "0     0.732720  0.267280\n",
       "1     0.757513  0.242487\n",
       "2     0.671364  0.328636\n",
       "3     0.695807  0.304193\n",
       "4     0.763796  0.236204\n",
       "...        ...       ...\n",
       "9764  0.763796  0.236204\n",
       "9765  0.720224  0.279776\n",
       "9766  0.763796  0.236204\n",
       "9767  0.763796  0.236204\n",
       "9768  0.697824  0.302176\n",
       "\n",
       "[9769 rows x 2 columns]"
      ]
     },
     "execution_count": 19,
     "metadata": {},
     "output_type": "execute_result"
    }
   ],
   "source": [
    "y_prob = pd.DataFrame(y_prob)\n",
    "y_prob"
   ]
  },
  {
   "cell_type": "code",
   "execution_count": 20,
   "metadata": {},
   "outputs": [],
   "source": [
    "y_pred = model_xgb.predict(X_test, optimal_threshold=True)"
   ]
  },
  {
   "cell_type": "code",
   "execution_count": 21,
   "metadata": {},
   "outputs": [],
   "source": [
    "# Cast predictions into DataFrame\n",
    "y_pred = pd.DataFrame(y_pred)"
   ]
  },
  {
   "cell_type": "code",
   "execution_count": 22,
   "metadata": {},
   "outputs": [
    {
     "data": {
      "text/html": [
       "<div>\n",
       "<style scoped>\n",
       "    .dataframe tbody tr th:only-of-type {\n",
       "        vertical-align: middle;\n",
       "    }\n",
       "\n",
       "    .dataframe tbody tr th {\n",
       "        vertical-align: top;\n",
       "    }\n",
       "\n",
       "    .dataframe thead th {\n",
       "        text-align: right;\n",
       "    }\n",
       "</style>\n",
       "<table border=\"1\" class=\"dataframe\">\n",
       "  <thead>\n",
       "    <tr style=\"text-align: right;\">\n",
       "      <th></th>\n",
       "      <th>0</th>\n",
       "    </tr>\n",
       "  </thead>\n",
       "  <tbody>\n",
       "    <tr>\n",
       "      <th>0</th>\n",
       "      <td>1</td>\n",
       "    </tr>\n",
       "    <tr>\n",
       "      <th>1</th>\n",
       "      <td>1</td>\n",
       "    </tr>\n",
       "    <tr>\n",
       "      <th>2</th>\n",
       "      <td>1</td>\n",
       "    </tr>\n",
       "    <tr>\n",
       "      <th>3</th>\n",
       "      <td>1</td>\n",
       "    </tr>\n",
       "    <tr>\n",
       "      <th>4</th>\n",
       "      <td>0</td>\n",
       "    </tr>\n",
       "    <tr>\n",
       "      <th>...</th>\n",
       "      <td>...</td>\n",
       "    </tr>\n",
       "    <tr>\n",
       "      <th>9764</th>\n",
       "      <td>0</td>\n",
       "    </tr>\n",
       "    <tr>\n",
       "      <th>9765</th>\n",
       "      <td>1</td>\n",
       "    </tr>\n",
       "    <tr>\n",
       "      <th>9766</th>\n",
       "      <td>0</td>\n",
       "    </tr>\n",
       "    <tr>\n",
       "      <th>9767</th>\n",
       "      <td>0</td>\n",
       "    </tr>\n",
       "    <tr>\n",
       "      <th>9768</th>\n",
       "      <td>1</td>\n",
       "    </tr>\n",
       "  </tbody>\n",
       "</table>\n",
       "<p>9769 rows × 1 columns</p>\n",
       "</div>"
      ],
      "text/plain": [
       "      0\n",
       "0     1\n",
       "1     1\n",
       "2     1\n",
       "3     1\n",
       "4     0\n",
       "...  ..\n",
       "9764  0\n",
       "9765  1\n",
       "9766  0\n",
       "9767  0\n",
       "9768  1\n",
       "\n",
       "[9769 rows x 1 columns]"
      ]
     },
     "execution_count": 22,
     "metadata": {},
     "output_type": "execute_result"
    }
   ],
   "source": [
    "y_pred"
   ]
  }
 ],
 "metadata": {
  "kernelspec": {
   "display_name": "equi_venv_311",
   "language": "python",
   "name": "python3"
  },
  "language_info": {
   "codemirror_mode": {
    "name": "ipython",
    "version": 3
   },
   "file_extension": ".py",
   "mimetype": "text/x-python",
   "name": "python",
   "nbconvert_exporter": "python",
   "pygments_lexer": "ipython3",
   "version": "3.11.0"
  }
 },
 "nbformat": 4,
 "nbformat_minor": 2
}
