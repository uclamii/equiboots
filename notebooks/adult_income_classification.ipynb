{
 "cells": [
  {
   "cell_type": "markdown",
   "metadata": {},
   "source": [
    "## Adult Income Dataset"
   ]
  },
  {
   "cell_type": "markdown",
   "metadata": {},
   "source": [
    "## Import Requisite Libraries"
   ]
  },
  {
   "cell_type": "code",
   "execution_count": 1,
   "metadata": {},
   "outputs": [],
   "source": [
    "from ucimlrepo import fetch_ucirepo\n",
    "import pandas as pd\n",
    "import numpy as np\n",
    "from xgboost import XGBClassifier\n",
    "from sklearn.preprocessing import StandardScaler, OneHotEncoder\n",
    "from sklearn.impute import SimpleImputer\n",
    "from sklearn.pipeline import Pipeline\n",
    "from sklearn.compose import ColumnTransformer\n",
    "from model_tuner import Model"
   ]
  },
  {
   "cell_type": "code",
   "execution_count": 2,
   "metadata": {},
   "outputs": [],
   "source": [
    "# fetch dataset\n",
    "adult = fetch_ucirepo(id=2)\n",
    "\n",
    "# data (as pandas dataframes)\n",
    "X = adult.data.features\n",
    "y = adult.data.targets"
   ]
  },
  {
   "cell_type": "code",
   "execution_count": 3,
   "metadata": {},
   "outputs": [
    {
     "name": "stdout",
     "output_type": "stream",
     "text": [
      "--------------------------------------------------------------------------------\n",
      "X\n",
      "--------------------------------------------------------------------------------\n",
      "   age         workclass  fnlwgt  education  education-num  \\\n",
      "0   39         State-gov   77516  Bachelors             13   \n",
      "1   50  Self-emp-not-inc   83311  Bachelors             13   \n",
      "2   38           Private  215646    HS-grad              9   \n",
      "3   53           Private  234721       11th              7   \n",
      "4   28           Private  338409  Bachelors             13   \n",
      "\n",
      "       marital-status         occupation   relationship   race     sex  \\\n",
      "0       Never-married       Adm-clerical  Not-in-family  White    Male   \n",
      "1  Married-civ-spouse    Exec-managerial        Husband  White    Male   \n",
      "2            Divorced  Handlers-cleaners  Not-in-family  White    Male   \n",
      "3  Married-civ-spouse  Handlers-cleaners        Husband  Black    Male   \n",
      "4  Married-civ-spouse     Prof-specialty           Wife  Black  Female   \n",
      "\n",
      "   capital-gain  capital-loss  hours-per-week native-country  \n",
      "0          2174             0              40  United-States  \n",
      "1             0             0              13  United-States  \n",
      "2             0             0              40  United-States  \n",
      "3             0             0              40  United-States  \n",
      "4             0             0              40           Cuba  \n"
     ]
    }
   ],
   "source": [
    "print(\"-\" * 80)\n",
    "print(\"X\")\n",
    "print(\"-\" * 80)\n",
    "\n",
    "print(X.head())  # inspect first 5 rows of X"
   ]
  },
  {
   "cell_type": "code",
   "execution_count": 4,
   "metadata": {},
   "outputs": [
    {
     "name": "stdout",
     "output_type": "stream",
     "text": [
      "--------------------------------------------------------------------------------\n",
      "y\n",
      "--------------------------------------------------------------------------------\n",
      "  income\n",
      "0  <=50K\n",
      "1  <=50K\n",
      "2  <=50K\n",
      "3  <=50K\n",
      "4  <=50K\n",
      "income\n",
      "<=50K    37155\n",
      ">50K     11687\n",
      "Name: count, dtype: int64\n"
     ]
    }
   ],
   "source": [
    "print(\"-\" * 80)\n",
    "print(\"y\")\n",
    "print(\"-\" * 80)\n",
    "\n",
    "print(y.head())  # inspect first 5 rows of y\n",
    "\n",
    "\n",
    "y.loc[:, 'income'] = y['income'].str.rstrip('.')  # Remove trailing periods\n",
    "\n",
    "# Check the updated value counts\n",
    "print(y['income'].value_counts())\n",
    "\n"
   ]
  },
  {
   "cell_type": "code",
   "execution_count": 5,
   "metadata": {},
   "outputs": [
    {
     "data": {
      "text/plain": [
       "income\n",
       "<=50K     37155\n",
       ">50K      11687\n",
       "Name: count, dtype: int64"
      ]
     },
     "execution_count": 5,
     "metadata": {},
     "output_type": "execute_result"
    }
   ],
   "source": [
    "y.value_counts()"
   ]
  },
  {
   "cell_type": "code",
   "execution_count": 6,
   "metadata": {},
   "outputs": [],
   "source": [
    "y = y['income'].map({'<=50K': 0, '>50K': 1})"
   ]
  },
  {
   "cell_type": "code",
   "execution_count": 7,
   "metadata": {},
   "outputs": [],
   "source": [
    "outcome = [\n",
    "    \"y\"\n",
    "]"
   ]
  },
  {
   "cell_type": "code",
   "execution_count": 8,
   "metadata": {},
   "outputs": [],
   "source": [
    "# >2 categories\n",
    "categorical_features = [\n",
    "    \"workclass\",\n",
    "    \"education\",\n",
    "    \"marital-status\",\n",
    "    \"occupation\",\n",
    "    \"relationship\",\n",
    "    \"race\",\n",
    "    \"sex\",\n",
    "    \"native-country\",\n",
    "    \"race\",\n",
    "]\n",
    "\n",
    "\n",
    "# continuous or binary\n",
    "numerical_features = X.select_dtypes(np.number).columns.to_list()"
   ]
  },
  {
   "cell_type": "code",
   "execution_count": 9,
   "metadata": {},
   "outputs": [],
   "source": [
    "xgb_name = \"xgb\"\n",
    "xgb = XGBClassifier(\n",
    "    objective=\"binary:logistic\",\n",
    "    random_state=222,\n",
    ")\n",
    "xgbearly = True\n",
    "tuned_parameters_xgb = {\n",
    "    f\"{xgb_name}__max_depth\": [3, 10, 20, 200, 500],\n",
    "    f\"{xgb_name}__learning_rate\": [1e-4],\n",
    "    f\"{xgb_name}__n_estimators\": [1000],\n",
    "    f\"{xgb_name}__early_stopping_rounds\": [100],\n",
    "    f\"{xgb_name}__verbose\": [0],\n",
    "    f\"{xgb_name}__eval_metric\": [\"logloss\"],\n",
    "}\n",
    "\n",
    "xgb_definition = {\n",
    "    \"clc\": xgb,\n",
    "    \"estimator_name\": xgb_name,\n",
    "    \"tuned_parameters\": tuned_parameters_xgb,\n",
    "    \"randomized_grid\": False,\n",
    "    \"n_iter\": 5,\n",
    "    \"early\": xgbearly,\n",
    "}\n",
    "\n",
    "model_definitions = {\n",
    "    xgb_name: xgb_definition,\n",
    "}"
   ]
  },
  {
   "cell_type": "code",
   "execution_count": 10,
   "metadata": {},
   "outputs": [],
   "source": [
    "# Define transformers for different column types\n",
    "numerical_transformer = Pipeline(\n",
    "    steps=[\n",
    "        (\"scaler\", StandardScaler()),\n",
    "        (\"imputer\", SimpleImputer(strategy=\"mean\")),\n",
    "    ]\n",
    ")\n",
    "\n",
    "categorical_transformer = Pipeline(\n",
    "    steps=[\n",
    "        (\"imputer\", SimpleImputer(strategy=\"constant\", fill_value=\"missing\")),\n",
    "        (\"encoder\", OneHotEncoder(handle_unknown=\"ignore\")),\n",
    "    ]\n",
    ")\n",
    "\n",
    "# Create the ColumnTransformer with passthrough\n",
    "preprocessor = ColumnTransformer(\n",
    "    transformers=[\n",
    "        (\"num\", numerical_transformer, numerical_features),\n",
    "        (\"cat\", categorical_transformer, categorical_features),\n",
    "    ],\n",
    "    remainder=\"passthrough\",\n",
    ")"
   ]
  },
  {
   "cell_type": "code",
   "execution_count": 11,
   "metadata": {},
   "outputs": [],
   "source": [
    "model_type = \"xgb\"\n",
    "clc = xgb_definition[\"clc\"]\n",
    "estimator_name = xgb_definition[\"estimator_name\"]\n",
    "\n",
    "tuned_parameters = xgb_definition[\"tuned_parameters\"]\n",
    "n_iter = xgb_definition[\"n_iter\"]\n",
    "rand_grid = xgb_definition[\"randomized_grid\"]\n",
    "early_stop = xgb_definition[\"early\"]\n",
    "kfold = False\n",
    "calibrate = True"
   ]
  },
  {
   "cell_type": "code",
   "execution_count": 12,
   "metadata": {},
   "outputs": [],
   "source": [
    "model_xgb = Model(\n",
    "    name=f\"AIDS_Clinical_{model_type}\",\n",
    "    estimator_name=estimator_name,\n",
    "    calibrate=calibrate,\n",
    "    estimator=clc,\n",
    "    model_type=\"classification\",\n",
    "    kfold=kfold,\n",
    "    pipeline_steps=[(\"ColumnTransformer\", preprocessor)],\n",
    "    stratify_y=True,\n",
    "    stratify_cols=[\"race\", \"sex\"],\n",
    "    grid=tuned_parameters,\n",
    "    randomized_grid=rand_grid,\n",
    "    boost_early=early_stop,\n",
    "    scoring=[\"roc_auc\"],\n",
    "    random_state=222,\n",
    "    n_jobs=2,\n",
    ")"
   ]
  },
  {
   "cell_type": "code",
   "execution_count": 13,
   "metadata": {},
   "outputs": [
    {
     "name": "stdout",
     "output_type": "stream",
     "text": [
      "\n",
      "Pipeline Steps:\n",
      "\n",
      "┌───────────────────────────────────────────────────────────┐\n",
      "│ Step 1: preprocess_column_transformer_ColumnTransformer   │\n",
      "│ ColumnTransformer                                         │\n",
      "└───────────────────────────────────────────────────────────┘\n",
      "                             │\n",
      "                             ▼\n",
      "┌───────────────────────────────────────────────────────────┐\n",
      "│ Step 2: xgb                                               │\n",
      "│ XGBClassifier                                             │\n",
      "└───────────────────────────────────────────────────────────┘\n",
      "\n"
     ]
    },
    {
     "name": "stderr",
     "output_type": "stream",
     "text": [
      "100%|██████████| 5/5 [04:11<00:00, 50.36s/it]\n"
     ]
    },
    {
     "name": "stdout",
     "output_type": "stream",
     "text": [
      "Fitting model with best params and tuning for best threshold ...\n"
     ]
    },
    {
     "name": "stderr",
     "output_type": "stream",
     "text": [
      "100%|██████████| 2/2 [00:01<00:00,  1.75it/s]"
     ]
    },
    {
     "name": "stdout",
     "output_type": "stream",
     "text": [
      "Best score/param set found on validation set:\n",
      "{'params': {'xgb__early_stopping_rounds': 100,\n",
      "            'xgb__eval_metric': 'logloss',\n",
      "            'xgb__learning_rate': 0.0001,\n",
      "            'xgb__max_depth': 10,\n",
      "            'xgb__n_estimators': 999},\n",
      " 'score': 0.9054592506968374}\n",
      "Best roc_auc: 0.905 \n",
      "\n"
     ]
    },
    {
     "name": "stderr",
     "output_type": "stream",
     "text": [
      "\n"
     ]
    }
   ],
   "source": [
    "model_xgb.grid_search_param_tuning(X, y, f1_beta_tune=True)\n",
    "\n",
    "X_train, y_train = model_xgb.get_train_data(X, y)\n",
    "X_test, y_test = model_xgb.get_test_data(X, y)\n",
    "X_valid, y_valid = model_xgb.get_valid_data(X, y)"
   ]
  },
  {
   "cell_type": "code",
   "execution_count": 14,
   "metadata": {},
   "outputs": [],
   "source": [
    "model_xgb.fit(\n",
    "    X_train,\n",
    "    y_train,\n",
    "    validation_data=[X_valid, y_valid],\n",
    "    score=\"roc_auc\",\n",
    ")"
   ]
  },
  {
   "cell_type": "code",
   "execution_count": 15,
   "metadata": {},
   "outputs": [
    {
     "data": {
      "text/plain": [
       "array([0, 0, 0, ..., 0, 0, 0])"
      ]
     },
     "execution_count": 15,
     "metadata": {},
     "output_type": "execute_result"
    }
   ],
   "source": [
    "model_xgb.predict(X_test)"
   ]
  },
  {
   "cell_type": "code",
   "execution_count": 16,
   "metadata": {},
   "outputs": [
    {
     "data": {
      "text/plain": [
       "(9769, 14)"
      ]
     },
     "execution_count": 16,
     "metadata": {},
     "output_type": "execute_result"
    }
   ],
   "source": [
    "X_test.shape"
   ]
  }
 ],
 "metadata": {
  "kernelspec": {
   "display_name": "conda_311",
   "language": "python",
   "name": "python3"
  },
  "language_info": {
   "codemirror_mode": {
    "name": "ipython",
    "version": 3
   },
   "file_extension": ".py",
   "mimetype": "text/x-python",
   "name": "python",
   "nbconvert_exporter": "python",
   "pygments_lexer": "ipython3",
   "version": "3.11.0"
  }
 },
 "nbformat": 4,
 "nbformat_minor": 2
}
