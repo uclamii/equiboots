{
 "cells": [
  {
   "cell_type": "markdown",
   "metadata": {},
   "source": [
    "## Adult Income Dataset"
   ]
  },
  {
   "cell_type": "markdown",
   "metadata": {},
   "source": [
    "## Import Requisite Libraries"
   ]
  },
  {
   "cell_type": "code",
   "execution_count": 1,
   "metadata": {},
   "outputs": [],
   "source": [
    "import model_tuner"
   ]
  },
  {
   "cell_type": "code",
   "execution_count": 2,
   "metadata": {},
   "outputs": [
    {
     "name": "stdout",
     "output_type": "stream",
     "text": [
      "Help on package model_tuner:\n",
      "\n",
      "NAME\n",
      "    model_tuner\n",
      "\n",
      "DESCRIPTION\n",
      "    $$$$$$$$$$$$$$$$$$$$$$$$$$$$$$$$$$$$$$$$$$$$$$$$$$$$$$$$$$$$$$$$$$$\n",
      "    $      __  __           _      _   _____                          $ \n",
      "    $     |  \\/  | ___   __| | ___| | |_   _|   _ _ __   ___ _ __     $\n",
      "    $     | |\\/| |/ _ \\ / _` |/ _ \\ |   | || | | | '_ \\ / _ \\ '__|    $\n",
      "    $     | |  | | (_) | (_| |  __/ |   | || |_| | | | |  __/ |       $\n",
      "    $     |_|  |_|\\___/ \\__,_|\\___|_|   |_| \\__,_|_| |_|\\___|_|       $\n",
      "    $                                                                 $\n",
      "    $$$$$$$$$$$$$$$$$$$$$$$$$$$$$$$$$$$$$$$$$$$$$$$$$$$$$$$$$$$$$$$$$$$\n",
      "                                                                   \n",
      "    The `model_tuner` library is a versatile and powerful tool designed to \n",
      "    facilitate the training, evaluation, and tuning of machine learning models. \n",
      "    It supports various functionalities such as handling imbalanced data, applying \n",
      "    different scaling and imputation techniques, calibrating models, and conducting \n",
      "    cross-validation. This library is particularly useful for model selection, \n",
      "    hyperparameter tuning, and ensuring optimal performance across different metrics.\n",
      "    \n",
      "    Version: 0.0.23a\n",
      "\n",
      "PACKAGE CONTENTS\n",
      "    bootstrapper\n",
      "    main\n",
      "    model_tuner_utils\n",
      "    pickleObjects\n",
      "\n",
      "DATA\n",
      "    __email__ = 'lshpaner@ucla.edu; alafunnell@gmail.com; pp89@ucla.edu'\n",
      "\n",
      "VERSION\n",
      "    0.0.23a\n",
      "\n",
      "AUTHOR\n",
      "    Arthur Funnell, Leonid Shpaner, Panayiotis Petousis\n",
      "\n",
      "FILE\n",
      "    c:\\users\\lshpaner\\miniconda3\\envs\\conda_311\\lib\\site-packages\\model_tuner\\__init__.py\n",
      "\n",
      "\n"
     ]
    }
   ],
   "source": [
    "help(model_tuner)"
   ]
  },
  {
   "cell_type": "code",
   "execution_count": 69,
   "metadata": {},
   "outputs": [],
   "source": [
    "from ucimlrepo import fetch_ucirepo\n",
    "import pandas as pd\n",
    "import numpy as np\n",
    "from xgboost import XGBClassifier\n",
    "from sklearn.preprocessing import StandardScaler, OneHotEncoder\n",
    "from sklearn.impute import SimpleImputer\n",
    "from sklearn.pipeline import Pipeline\n",
    "from sklearn.compose import ColumnTransformer\n",
    "from model_tuner import Model"
   ]
  },
  {
   "cell_type": "code",
   "execution_count": 70,
   "metadata": {},
   "outputs": [],
   "source": [
    "# fetch dataset\n",
    "adult = fetch_ucirepo(id=2)\n",
    "\n",
    "# data (as pandas dataframes)\n",
    "X = adult.data.features\n",
    "y = adult.data.targets"
   ]
  },
  {
   "cell_type": "code",
   "execution_count": 25,
   "metadata": {},
   "outputs": [
    {
     "name": "stdout",
     "output_type": "stream",
     "text": [
      "--------------------------------------------------------------------------------\n",
      "X\n",
      "--------------------------------------------------------------------------------\n",
      "   age         workclass  fnlwgt  education  education-num  \\\n",
      "0   39         State-gov   77516  Bachelors             13   \n",
      "1   50  Self-emp-not-inc   83311  Bachelors             13   \n",
      "2   38           Private  215646    HS-grad              9   \n",
      "3   53           Private  234721       11th              7   \n",
      "4   28           Private  338409  Bachelors             13   \n",
      "\n",
      "       marital-status         occupation   relationship   race     sex  \\\n",
      "0       Never-married       Adm-clerical  Not-in-family  White    Male   \n",
      "1  Married-civ-spouse    Exec-managerial        Husband  White    Male   \n",
      "2            Divorced  Handlers-cleaners  Not-in-family  White    Male   \n",
      "3  Married-civ-spouse  Handlers-cleaners        Husband  Black    Male   \n",
      "4  Married-civ-spouse     Prof-specialty           Wife  Black  Female   \n",
      "\n",
      "   capital-gain  capital-loss  hours-per-week native-country  \n",
      "0          2174             0              40  United-States  \n",
      "1             0             0              13  United-States  \n",
      "2             0             0              40  United-States  \n",
      "3             0             0              40  United-States  \n",
      "4             0             0              40           Cuba  \n"
     ]
    }
   ],
   "source": [
    "print(\"-\" * 80)\n",
    "print(\"X\")\n",
    "print(\"-\" * 80)\n",
    "\n",
    "print(X.head())  # inspect first 5 rows of X"
   ]
  },
  {
   "cell_type": "code",
   "execution_count": 71,
   "metadata": {},
   "outputs": [
    {
     "name": "stdout",
     "output_type": "stream",
     "text": [
      "--------------------------------------------------------------------------------\n",
      "y = Outcome = Income\n",
      "--------------------------------------------------------------------------------\n",
      "\n",
      "  income\n",
      "0  <=50K\n",
      "1  <=50K\n",
      "2  <=50K\n",
      "3  <=50K\n",
      "4  <=50K\n",
      "\n",
      " Income Value Counts: \n",
      "\n",
      "income\n",
      "<=50K    37155\n",
      ">50K     11687\n",
      "Name: count, dtype: int64\n"
     ]
    }
   ],
   "source": [
    "print(\"-\" * 80)\n",
    "print(\"y = Outcome = Income\")\n",
    "print(\"-\" * 80)\n",
    "\n",
    "print(f\"\\n{y.head()}\")  # inspect first 5 rows of y\n",
    "\n",
    "y.loc[:, \"income\"] = y[\"income\"].str.rstrip(\".\")  # Remove trailing periods\n",
    "\n",
    "print(f\"\\n Income Value Counts: \\n\")\n",
    "# Check the updated value counts\n",
    "print(y[\"income\"].value_counts())\n",
    "\n",
    "y = y[\"income\"].map({\"<=50K\": 0, \">50K\": 1})\n",
    "\n",
    "outcome = [\"y\"]"
   ]
  },
  {
   "cell_type": "code",
   "execution_count": 27,
   "metadata": {},
   "outputs": [],
   "source": [
    "# >2 categories\n",
    "categorical_features = [\n",
    "    \"workclass\",\n",
    "    \"education\",\n",
    "    \"marital-status\",\n",
    "    \"occupation\",\n",
    "    \"relationship\",\n",
    "    \"race\",\n",
    "    \"sex\",\n",
    "    \"native-country\",\n",
    "    \"race\",\n",
    "]"
   ]
  },
  {
   "cell_type": "code",
   "execution_count": 28,
   "metadata": {},
   "outputs": [],
   "source": [
    "# continuous or binary\n",
    "numerical_features = X.select_dtypes(np.number).columns.to_list()"
   ]
  },
  {
   "cell_type": "code",
   "execution_count": 31,
   "metadata": {},
   "outputs": [],
   "source": [
    "xgb_name = \"xgb\"\n",
    "xgb = XGBClassifier(\n",
    "    objective=\"binary:logistic\",\n",
    "    random_state=222,\n",
    ")\n",
    "xgbearly = True\n",
    "tuned_parameters_xgb = {\n",
    "    f\"{xgb_name}__max_depth\": [3, 10, 20, 200, 500],\n",
    "    f\"{xgb_name}__learning_rate\": [1e-4],\n",
    "    f\"{xgb_name}__n_estimators\": [1000],\n",
    "    f\"{xgb_name}__early_stopping_rounds\": [100],\n",
    "    f\"{xgb_name}__verbose\": [0],\n",
    "    f\"{xgb_name}__eval_metric\": [\"logloss\"],\n",
    "}\n",
    "\n",
    "xgb_definition = {\n",
    "    \"clc\": xgb,\n",
    "    \"estimator_name\": xgb_name,\n",
    "    \"tuned_parameters\": tuned_parameters_xgb,\n",
    "    \"randomized_grid\": False,\n",
    "    \"n_iter\": 5,\n",
    "    \"early\": xgbearly,\n",
    "}\n",
    "\n",
    "model_definitions = {\n",
    "    xgb_name: xgb_definition,\n",
    "}\n",
    "\n",
    "# Define transformers for different column types\n",
    "numerical_transformer = Pipeline(\n",
    "    steps=[\n",
    "        (\"scaler\", StandardScaler()),\n",
    "        (\"imputer\", SimpleImputer(strategy=\"mean\")),\n",
    "    ]\n",
    ")\n",
    "\n",
    "categorical_transformer = Pipeline(\n",
    "    steps=[\n",
    "        (\"imputer\", SimpleImputer(strategy=\"constant\", fill_value=\"missing\")),\n",
    "        (\"encoder\", OneHotEncoder(handle_unknown=\"ignore\")),\n",
    "    ]\n",
    ")\n",
    "\n",
    "# Create the ColumnTransformer with passthrough\n",
    "preprocessor = ColumnTransformer(\n",
    "    transformers=[\n",
    "        (\"num\", numerical_transformer, numerical_features),\n",
    "        (\"cat\", categorical_transformer, categorical_features),\n",
    "    ],\n",
    "    remainder=\"passthrough\",\n",
    ")"
   ]
  },
  {
   "cell_type": "code",
   "execution_count": 32,
   "metadata": {},
   "outputs": [],
   "source": [
    "model_type = \"xgb\"\n",
    "clc = xgb_definition[\"clc\"]\n",
    "estimator_name = xgb_definition[\"estimator_name\"]\n",
    "\n",
    "tuned_parameters = xgb_definition[\"tuned_parameters\"]\n",
    "n_iter = xgb_definition[\"n_iter\"]\n",
    "rand_grid = xgb_definition[\"randomized_grid\"]\n",
    "early_stop = xgb_definition[\"early\"]\n",
    "kfold = False\n",
    "calibrate = True"
   ]
  },
  {
   "cell_type": "code",
   "execution_count": 33,
   "metadata": {},
   "outputs": [],
   "source": [
    "model_xgb = Model(\n",
    "    name=f\"AIDS_Clinical_{model_type}\",\n",
    "    estimator_name=estimator_name,\n",
    "    calibrate=calibrate,\n",
    "    estimator=clc,\n",
    "    model_type=\"classification\",\n",
    "    kfold=kfold,\n",
    "    pipeline_steps=[(\"ColumnTransformer\", preprocessor)],\n",
    "    stratify_y=True,\n",
    "    stratify_cols=[\"race\", \"sex\"],\n",
    "    grid=tuned_parameters,\n",
    "    randomized_grid=rand_grid,\n",
    "    boost_early=early_stop,\n",
    "    scoring=[\"roc_auc\"],\n",
    "    random_state=222,\n",
    "    n_jobs=2,\n",
    ")"
   ]
  },
  {
   "cell_type": "code",
   "execution_count": 34,
   "metadata": {},
   "outputs": [
    {
     "name": "stdout",
     "output_type": "stream",
     "text": [
      "\n",
      "Pipeline Steps:\n",
      "\n",
      "┌───────────────────────────────────────────────────────────┐\n",
      "│ Step 1: preprocess_column_transformer_ColumnTransformer   │\n",
      "│ ColumnTransformer                                         │\n",
      "└───────────────────────────────────────────────────────────┘\n",
      "                             │\n",
      "                             ▼\n",
      "┌───────────────────────────────────────────────────────────┐\n",
      "│ Step 2: xgb                                               │\n",
      "│ XGBClassifier                                             │\n",
      "└───────────────────────────────────────────────────────────┘\n",
      "\n"
     ]
    },
    {
     "name": "stderr",
     "output_type": "stream",
     "text": [
      "100%|██████████| 5/5 [03:06<00:00, 37.38s/it]\n"
     ]
    },
    {
     "name": "stdout",
     "output_type": "stream",
     "text": [
      "Fitting model with best params and tuning for best threshold ...\n"
     ]
    },
    {
     "name": "stderr",
     "output_type": "stream",
     "text": [
      "100%|██████████| 2/2 [00:00<00:00,  2.08it/s]"
     ]
    },
    {
     "name": "stdout",
     "output_type": "stream",
     "text": [
      "Best score/param set found on validation set:\n",
      "{'params': {'xgb__early_stopping_rounds': 100,\n",
      "            'xgb__eval_metric': 'logloss',\n",
      "            'xgb__learning_rate': 0.0001,\n",
      "            'xgb__max_depth': 10,\n",
      "            'xgb__n_estimators': 999},\n",
      " 'score': 0.9054592506968374}\n",
      "Best roc_auc: 0.905 \n",
      "\n"
     ]
    },
    {
     "name": "stderr",
     "output_type": "stream",
     "text": [
      "\n"
     ]
    }
   ],
   "source": [
    "model_xgb.grid_search_param_tuning(X, y, f1_beta_tune=True)"
   ]
  },
  {
   "cell_type": "code",
   "execution_count": 35,
   "metadata": {},
   "outputs": [],
   "source": [
    "X_train, y_train = model_xgb.get_train_data(X, y)\n",
    "X_test, y_test = model_xgb.get_test_data(X, y)\n",
    "X_valid, y_valid = model_xgb.get_valid_data(X, y)"
   ]
  },
  {
   "cell_type": "code",
   "execution_count": 36,
   "metadata": {},
   "outputs": [],
   "source": [
    "model_xgb.fit(X_train, y_train, validation_data=[X_valid, y_valid])"
   ]
  },
  {
   "cell_type": "markdown",
   "metadata": {},
   "source": [
    "## Return Metrics (Optional)"
   ]
  },
  {
   "cell_type": "code",
   "execution_count": 41,
   "metadata": {},
   "outputs": [
    {
     "name": "stdout",
     "output_type": "stream",
     "text": [
      "Validation Metrics\n",
      "Confusion matrix on set provided: \n",
      "--------------------------------------------------------------------------------\n",
      "          Predicted:\n",
      "              Pos    Neg\n",
      "--------------------------------------------------------------------------------\n",
      "Actual: Pos 2262 (tp)    76 (fn)\n",
      "        Neg 3266 (fp)  4164 (tn)\n",
      "--------------------------------------------------------------------------------\n",
      "--------------------------------------------------------------------------------\n",
      "{'AUC ROC': 0.9054600566219992,\n",
      " 'Average Precision': 0.7748017565196692,\n",
      " 'Brier Score': 0.16708507764273153,\n",
      " 'Precision/PPV': 0.40918958031837915,\n",
      " 'Sensitivity': 0.9674935842600513,\n",
      " 'Specificity': 0.5604306864064603}\n",
      "--------------------------------------------------------------------------------\n",
      "\n",
      "              precision    recall  f1-score   support\n",
      "\n",
      "           0       0.98      0.56      0.71      7430\n",
      "           1       0.41      0.97      0.58      2338\n",
      "\n",
      "    accuracy                           0.66      9768\n",
      "   macro avg       0.70      0.76      0.64      9768\n",
      "weighted avg       0.84      0.66      0.68      9768\n",
      "\n",
      "--------------------------------------------------------------------------------\n"
     ]
    },
    {
     "data": {
      "text/plain": [
       "{'Classification Report': {'0': {'precision': 0.9820754716981132,\n",
       "   'recall': 0.5604306864064603,\n",
       "   'f1-score': 0.7136246786632391,\n",
       "   'support': 7430.0},\n",
       "  '1': {'precision': 0.40918958031837915,\n",
       "   'recall': 0.9674935842600513,\n",
       "   'f1-score': 0.5751334858886347,\n",
       "   'support': 2338.0},\n",
       "  'accuracy': 0.6578624078624079,\n",
       "  'macro avg': {'precision': 0.6956325260082461,\n",
       "   'recall': 0.7639621353332557,\n",
       "   'f1-score': 0.6443790822759369,\n",
       "   'support': 9768.0},\n",
       "  'weighted avg': {'precision': 0.8449535210382217,\n",
       "   'recall': 0.6578624078624079,\n",
       "   'f1-score': 0.6804763976735764,\n",
       "   'support': 9768.0}},\n",
       " 'Confusion Matrix': array([[4164, 3266],\n",
       "        [  76, 2262]], dtype=int64)}"
      ]
     },
     "execution_count": 41,
     "metadata": {},
     "output_type": "execute_result"
    }
   ],
   "source": [
    "print(\"Validation Metrics\")\n",
    "model_xgb.return_metrics(X_valid, y_valid, optimal_threshold=True)"
   ]
  },
  {
   "cell_type": "code",
   "execution_count": 42,
   "metadata": {},
   "outputs": [
    {
     "name": "stdout",
     "output_type": "stream",
     "text": [
      "Test Metrics\n",
      "Confusion matrix on set provided: \n",
      "--------------------------------------------------------------------------------\n",
      "          Predicted:\n",
      "              Pos    Neg\n",
      "--------------------------------------------------------------------------------\n",
      "Actual: Pos 2269 (tp)    68 (fn)\n",
      "        Neg 3339 (fp)  4093 (tn)\n",
      "--------------------------------------------------------------------------------\n",
      "--------------------------------------------------------------------------------\n",
      "{'AUC ROC': 0.9060802538652546,\n",
      " 'Average Precision': 0.7813781976062162,\n",
      " 'Brier Score': 0.1670615123206092,\n",
      " 'Precision/PPV': 0.4046005706134094,\n",
      " 'Sensitivity': 0.9709028669234061,\n",
      " 'Specificity': 0.5507265877287406}\n",
      "--------------------------------------------------------------------------------\n",
      "\n",
      "              precision    recall  f1-score   support\n",
      "\n",
      "           0       0.98      0.55      0.71      7432\n",
      "           1       0.40      0.97      0.57      2337\n",
      "\n",
      "    accuracy                           0.65      9769\n",
      "   macro avg       0.69      0.76      0.64      9769\n",
      "weighted avg       0.85      0.65      0.67      9769\n",
      "\n",
      "--------------------------------------------------------------------------------\n"
     ]
    },
    {
     "data": {
      "text/plain": [
       "{'Classification Report': {'0': {'precision': 0.9836577745734199,\n",
       "   'recall': 0.5507265877287406,\n",
       "   'f1-score': 0.7061157595100491,\n",
       "   'support': 7432.0},\n",
       "  '1': {'precision': 0.4046005706134094,\n",
       "   'recall': 0.9709028669234061,\n",
       "   'f1-score': 0.571176840780365,\n",
       "   'support': 2337.0},\n",
       "  'accuracy': 0.6512437301668543,\n",
       "  'macro avg': {'precision': 0.6941291725934147,\n",
       "   'recall': 0.7608147273260734,\n",
       "   'f1-score': 0.6386463001452071,\n",
       "   'support': 9769.0},\n",
       "  'weighted avg': {'precision': 0.845132164413266,\n",
       "   'recall': 0.6512437301668543,\n",
       "   'f1-score': 0.6738348450795781,\n",
       "   'support': 9769.0}},\n",
       " 'Confusion Matrix': array([[4093, 3339],\n",
       "        [  68, 2269]], dtype=int64)}"
      ]
     },
     "execution_count": 42,
     "metadata": {},
     "output_type": "execute_result"
    }
   ],
   "source": [
    "print(\"Test Metrics\")\n",
    "model_xgb.return_metrics(X_test, y_test, optimal_threshold=True)"
   ]
  },
  {
   "cell_type": "markdown",
   "metadata": {},
   "source": [
    "## Extract Predicted Probabilities"
   ]
  },
  {
   "cell_type": "code",
   "execution_count": 57,
   "metadata": {},
   "outputs": [],
   "source": [
    "y_prob = model_xgb.predict_proba(X_test)"
   ]
  },
  {
   "cell_type": "code",
   "execution_count": 67,
   "metadata": {},
   "outputs": [
    {
     "data": {
      "text/html": [
       "<div>\n",
       "<style scoped>\n",
       "    .dataframe tbody tr th:only-of-type {\n",
       "        vertical-align: middle;\n",
       "    }\n",
       "\n",
       "    .dataframe tbody tr th {\n",
       "        vertical-align: top;\n",
       "    }\n",
       "\n",
       "    .dataframe thead th {\n",
       "        text-align: right;\n",
       "    }\n",
       "</style>\n",
       "<table border=\"1\" class=\"dataframe\">\n",
       "  <thead>\n",
       "    <tr style=\"text-align: right;\">\n",
       "      <th></th>\n",
       "      <th>0</th>\n",
       "      <th>1</th>\n",
       "    </tr>\n",
       "  </thead>\n",
       "  <tbody>\n",
       "    <tr>\n",
       "      <th>0</th>\n",
       "      <td>0.732727</td>\n",
       "      <td>0.267273</td>\n",
       "    </tr>\n",
       "    <tr>\n",
       "      <th>1</th>\n",
       "      <td>0.758547</td>\n",
       "      <td>0.241453</td>\n",
       "    </tr>\n",
       "    <tr>\n",
       "      <th>2</th>\n",
       "      <td>0.671430</td>\n",
       "      <td>0.328570</td>\n",
       "    </tr>\n",
       "    <tr>\n",
       "      <th>3</th>\n",
       "      <td>0.695792</td>\n",
       "      <td>0.304208</td>\n",
       "    </tr>\n",
       "    <tr>\n",
       "      <th>4</th>\n",
       "      <td>0.763772</td>\n",
       "      <td>0.236228</td>\n",
       "    </tr>\n",
       "    <tr>\n",
       "      <th>...</th>\n",
       "      <td>...</td>\n",
       "      <td>...</td>\n",
       "    </tr>\n",
       "    <tr>\n",
       "      <th>9764</th>\n",
       "      <td>0.763772</td>\n",
       "      <td>0.236228</td>\n",
       "    </tr>\n",
       "    <tr>\n",
       "      <th>9765</th>\n",
       "      <td>0.720243</td>\n",
       "      <td>0.279757</td>\n",
       "    </tr>\n",
       "    <tr>\n",
       "      <th>9766</th>\n",
       "      <td>0.763772</td>\n",
       "      <td>0.236228</td>\n",
       "    </tr>\n",
       "    <tr>\n",
       "      <th>9767</th>\n",
       "      <td>0.763772</td>\n",
       "      <td>0.236228</td>\n",
       "    </tr>\n",
       "    <tr>\n",
       "      <th>9768</th>\n",
       "      <td>0.697851</td>\n",
       "      <td>0.302149</td>\n",
       "    </tr>\n",
       "  </tbody>\n",
       "</table>\n",
       "<p>9769 rows × 2 columns</p>\n",
       "</div>"
      ],
      "text/plain": [
       "             0         1\n",
       "0     0.732727  0.267273\n",
       "1     0.758547  0.241453\n",
       "2     0.671430  0.328570\n",
       "3     0.695792  0.304208\n",
       "4     0.763772  0.236228\n",
       "...        ...       ...\n",
       "9764  0.763772  0.236228\n",
       "9765  0.720243  0.279757\n",
       "9766  0.763772  0.236228\n",
       "9767  0.763772  0.236228\n",
       "9768  0.697851  0.302149\n",
       "\n",
       "[9769 rows x 2 columns]"
      ]
     },
     "execution_count": 67,
     "metadata": {},
     "output_type": "execute_result"
    }
   ],
   "source": [
    "y_prob = pd.DataFrame(y_prob)\n",
    "y_prob"
   ]
  },
  {
   "cell_type": "code",
   "execution_count": 44,
   "metadata": {},
   "outputs": [],
   "source": [
    "y_pred = model_xgb.predict(X_test, optimal_threshold=True)"
   ]
  },
  {
   "cell_type": "code",
   "execution_count": 48,
   "metadata": {},
   "outputs": [],
   "source": [
    "# Cast predictions into DataFrame\n",
    "y_pred = pd.DataFrame(y_pred)"
   ]
  },
  {
   "cell_type": "code",
   "execution_count": 56,
   "metadata": {},
   "outputs": [
    {
     "data": {
      "text/html": [
       "<div>\n",
       "<style scoped>\n",
       "    .dataframe tbody tr th:only-of-type {\n",
       "        vertical-align: middle;\n",
       "    }\n",
       "\n",
       "    .dataframe tbody tr th {\n",
       "        vertical-align: top;\n",
       "    }\n",
       "\n",
       "    .dataframe thead th {\n",
       "        text-align: right;\n",
       "    }\n",
       "</style>\n",
       "<table border=\"1\" class=\"dataframe\">\n",
       "  <thead>\n",
       "    <tr style=\"text-align: right;\">\n",
       "      <th></th>\n",
       "      <th>0</th>\n",
       "    </tr>\n",
       "  </thead>\n",
       "  <tbody>\n",
       "    <tr>\n",
       "      <th>0</th>\n",
       "      <td>1</td>\n",
       "    </tr>\n",
       "    <tr>\n",
       "      <th>1</th>\n",
       "      <td>1</td>\n",
       "    </tr>\n",
       "    <tr>\n",
       "      <th>2</th>\n",
       "      <td>1</td>\n",
       "    </tr>\n",
       "    <tr>\n",
       "      <th>3</th>\n",
       "      <td>1</td>\n",
       "    </tr>\n",
       "    <tr>\n",
       "      <th>4</th>\n",
       "      <td>0</td>\n",
       "    </tr>\n",
       "    <tr>\n",
       "      <th>...</th>\n",
       "      <td>...</td>\n",
       "    </tr>\n",
       "    <tr>\n",
       "      <th>9764</th>\n",
       "      <td>0</td>\n",
       "    </tr>\n",
       "    <tr>\n",
       "      <th>9765</th>\n",
       "      <td>1</td>\n",
       "    </tr>\n",
       "    <tr>\n",
       "      <th>9766</th>\n",
       "      <td>0</td>\n",
       "    </tr>\n",
       "    <tr>\n",
       "      <th>9767</th>\n",
       "      <td>0</td>\n",
       "    </tr>\n",
       "    <tr>\n",
       "      <th>9768</th>\n",
       "      <td>1</td>\n",
       "    </tr>\n",
       "  </tbody>\n",
       "</table>\n",
       "<p>9769 rows × 1 columns</p>\n",
       "</div>"
      ],
      "text/plain": [
       "      0\n",
       "0     1\n",
       "1     1\n",
       "2     1\n",
       "3     1\n",
       "4     0\n",
       "...  ..\n",
       "9764  0\n",
       "9765  1\n",
       "9766  0\n",
       "9767  0\n",
       "9768  1\n",
       "\n",
       "[9769 rows x 1 columns]"
      ]
     },
     "execution_count": 56,
     "metadata": {},
     "output_type": "execute_result"
    }
   ],
   "source": [
    "y_pred"
   ]
  }
 ],
 "metadata": {
  "kernelspec": {
   "display_name": "conda_311",
   "language": "python",
   "name": "python3"
  },
  "language_info": {
   "codemirror_mode": {
    "name": "ipython",
    "version": 3
   },
   "file_extension": ".py",
   "mimetype": "text/x-python",
   "name": "python",
   "nbconvert_exporter": "python",
   "pygments_lexer": "ipython3",
   "version": "3.11.10"
  }
 },
 "nbformat": 4,
 "nbformat_minor": 2
}
